{
  "nbformat": 4,
  "nbformat_minor": 0,
  "metadata": {
    "colab": {
      "name": "(1). Array_Intro ",
      "provenance": []
    },
    "kernelspec": {
      "name": "python3",
      "display_name": "Python 3"
    }
  },
  "cells": [
    {
      "cell_type": "markdown",
      "metadata": {
        "id": "ob6iV2g0TWRw"
      },
      "source": [
        "# Array :\n",
        "\n",
        "numpy.array, numpy.array.shape, numpy.reshape, numpy.concatenate"
      ]
    },
    {
      "cell_type": "code",
      "metadata": {
        "id": "xT4VRarJTbtK"
      },
      "source": [
        "import numpy as np"
      ],
      "execution_count": 76,
      "outputs": []
    },
    {
      "cell_type": "code",
      "metadata": {
        "id": "WVrP1hdVT9gh",
        "outputId": "6437f350-4d3d-4779-ad18-e606fd43ea10",
        "colab": {
          "base_uri": "https://localhost:8080/",
          "height": 34
        }
      },
      "source": [
        "X = [2,4,6,8,\"cow\",1.3]\n",
        "type(X)"
      ],
      "execution_count": 77,
      "outputs": [
        {
          "output_type": "execute_result",
          "data": {
            "text/plain": [
              "list"
            ]
          },
          "metadata": {
            "tags": []
          },
          "execution_count": 77
        }
      ]
    },
    {
      "cell_type": "code",
      "metadata": {
        "id": "2ZuLtkpbUQRp",
        "outputId": "a1b4d87c-6d92-4c40-8295-90b25fb50995",
        "colab": {
          "base_uri": "https://localhost:8080/",
          "height": 35
        }
      },
      "source": [
        "X[4]"
      ],
      "execution_count": 78,
      "outputs": [
        {
          "output_type": "execute_result",
          "data": {
            "application/vnd.google.colaboratory.intrinsic+json": {
              "type": "string"
            },
            "text/plain": [
              "'cow'"
            ]
          },
          "metadata": {
            "tags": []
          },
          "execution_count": 78
        }
      ]
    },
    {
      "cell_type": "code",
      "metadata": {
        "id": "Ov1ykkghUXDt",
        "outputId": "cd72d94e-b772-4c2e-d5c2-3a194047efe4",
        "colab": {
          "base_uri": "https://localhost:8080/",
          "height": 34
        }
      },
      "source": [
        "X + X"
      ],
      "execution_count": 79,
      "outputs": [
        {
          "output_type": "execute_result",
          "data": {
            "text/plain": [
              "[2, 4, 6, 8, 'cow', 1.3, 2, 4, 6, 8, 'cow', 1.3]"
            ]
          },
          "metadata": {
            "tags": []
          },
          "execution_count": 79
        }
      ]
    },
    {
      "cell_type": "code",
      "metadata": {
        "id": "tsbSfjqrUa1I",
        "outputId": "c1faab22-cfbe-45f6-a7b4-8cfde16ef2ed",
        "colab": {
          "base_uri": "https://localhost:8080/",
          "height": 34
        }
      },
      "source": [
        "M = np.array([5,6,7,8])\n",
        "M\n",
        "type(M)\n",
        "M + M"
      ],
      "execution_count": 80,
      "outputs": [
        {
          "output_type": "execute_result",
          "data": {
            "text/plain": [
              "array([10, 12, 14, 16])"
            ]
          },
          "metadata": {
            "tags": []
          },
          "execution_count": 80
        }
      ]
    },
    {
      "cell_type": "code",
      "metadata": {
        "id": "U6HXZ51zUxez",
        "outputId": "2bc04967-8292-4515-cf0e-cb5a79ee6b40",
        "colab": {
          "base_uri": "https://localhost:8080/",
          "height": 68
        }
      },
      "source": [
        "M = np.array([[1,4,6],[3,4,8],[5,7,9,]])\n",
        "M"
      ],
      "execution_count": 81,
      "outputs": [
        {
          "output_type": "execute_result",
          "data": {
            "text/plain": [
              "array([[1, 4, 6],\n",
              "       [3, 4, 8],\n",
              "       [5, 7, 9]])"
            ]
          },
          "metadata": {
            "tags": []
          },
          "execution_count": 81
        }
      ]
    },
    {
      "cell_type": "code",
      "metadata": {
        "id": "rdVkDzK-VSLS",
        "outputId": "19a6242a-2152-440d-968d-d2a55245df7d",
        "colab": {
          "base_uri": "https://localhost:8080/",
          "height": 68
        }
      },
      "source": [
        "N = np.array([[0,0,0],[0,0,0],[0,0,0]])\n",
        "N"
      ],
      "execution_count": 82,
      "outputs": [
        {
          "output_type": "execute_result",
          "data": {
            "text/plain": [
              "array([[0, 0, 0],\n",
              "       [0, 0, 0],\n",
              "       [0, 0, 0]])"
            ]
          },
          "metadata": {
            "tags": []
          },
          "execution_count": 82
        }
      ]
    },
    {
      "cell_type": "code",
      "metadata": {
        "id": "AYzMwlYhViSy",
        "outputId": "7fc11c0e-6780-4241-b521-9a58fe6cb641",
        "colab": {
          "base_uri": "https://localhost:8080/",
          "height": 68
        }
      },
      "source": [
        "N = np.zeros([3,3])\n",
        "N"
      ],
      "execution_count": 83,
      "outputs": [
        {
          "output_type": "execute_result",
          "data": {
            "text/plain": [
              "array([[0., 0., 0.],\n",
              "       [0., 0., 0.],\n",
              "       [0., 0., 0.]])"
            ]
          },
          "metadata": {
            "tags": []
          },
          "execution_count": 83
        }
      ]
    },
    {
      "cell_type": "code",
      "metadata": {
        "id": "lz70s3xlVs7w",
        "outputId": "3f241edf-315e-4008-aa3f-0fc9448759c6",
        "colab": {
          "base_uri": "https://localhost:8080/",
          "height": 119
        }
      },
      "source": [
        "I = np.ones([6,7])\n",
        "I"
      ],
      "execution_count": 84,
      "outputs": [
        {
          "output_type": "execute_result",
          "data": {
            "text/plain": [
              "array([[1., 1., 1., 1., 1., 1., 1.],\n",
              "       [1., 1., 1., 1., 1., 1., 1.],\n",
              "       [1., 1., 1., 1., 1., 1., 1.],\n",
              "       [1., 1., 1., 1., 1., 1., 1.],\n",
              "       [1., 1., 1., 1., 1., 1., 1.],\n",
              "       [1., 1., 1., 1., 1., 1., 1.]])"
            ]
          },
          "metadata": {
            "tags": []
          },
          "execution_count": 84
        }
      ]
    },
    {
      "cell_type": "code",
      "metadata": {
        "id": "pbRFIj19V9QP",
        "outputId": "99b67563-c30d-42df-e9fe-f40db0af792c",
        "colab": {
          "base_uri": "https://localhost:8080/",
          "height": 119
        }
      },
      "source": [
        "np.eye(6)"
      ],
      "execution_count": 85,
      "outputs": [
        {
          "output_type": "execute_result",
          "data": {
            "text/plain": [
              "array([[1., 0., 0., 0., 0., 0.],\n",
              "       [0., 1., 0., 0., 0., 0.],\n",
              "       [0., 0., 1., 0., 0., 0.],\n",
              "       [0., 0., 0., 1., 0., 0.],\n",
              "       [0., 0., 0., 0., 1., 0.],\n",
              "       [0., 0., 0., 0., 0., 1.]])"
            ]
          },
          "metadata": {
            "tags": []
          },
          "execution_count": 85
        }
      ]
    },
    {
      "cell_type": "code",
      "metadata": {
        "id": "0eHK6h5NWB_W",
        "outputId": "72f64aa3-0144-42b9-befd-6d1877c917f3",
        "colab": {
          "base_uri": "https://localhost:8080/",
          "height": 221
        }
      },
      "source": [
        "X = np.random.rand(6,6)\n",
        "X"
      ],
      "execution_count": 86,
      "outputs": [
        {
          "output_type": "execute_result",
          "data": {
            "text/plain": [
              "array([[0.28240744, 0.30088437, 0.31926872, 0.35341207, 0.1506935 ,\n",
              "        0.29749219],\n",
              "       [0.2464073 , 0.51800193, 0.48272674, 0.78261359, 0.6258525 ,\n",
              "        0.39489093],\n",
              "       [0.73929373, 0.78999368, 0.10899596, 0.47017461, 0.86689606,\n",
              "        0.30595196],\n",
              "       [0.87722107, 0.77373387, 0.05106627, 0.46630061, 0.35585982,\n",
              "        0.6096493 ],\n",
              "       [0.0044655 , 0.75033707, 0.5413169 , 0.59757827, 0.50976431,\n",
              "        0.01647404],\n",
              "       [0.1411935 , 0.97532332, 0.63753639, 0.74702131, 0.98119052,\n",
              "        0.32410988]])"
            ]
          },
          "metadata": {
            "tags": []
          },
          "execution_count": 86
        }
      ]
    },
    {
      "cell_type": "code",
      "metadata": {
        "id": "zNQqB8daWQix",
        "outputId": "a537196e-7a33-4865-ddf5-ba7ee9316c8b",
        "colab": {
          "base_uri": "https://localhost:8080/",
          "height": 221
        }
      },
      "source": [
        "X = np.random.randn(6,6)\n",
        "X"
      ],
      "execution_count": 87,
      "outputs": [
        {
          "output_type": "execute_result",
          "data": {
            "text/plain": [
              "array([[-1.23406214,  0.37778513,  1.02845961,  0.28002632, -0.47723453,\n",
              "        -0.07737008],\n",
              "       [-0.40880446,  0.60758684,  0.98002034,  0.82785816,  1.68882063,\n",
              "         0.23576217],\n",
              "       [ 1.29069019,  0.62179233, -0.35302511, -0.65571879, -0.93347032,\n",
              "         1.57828048],\n",
              "       [-0.12557049,  0.93926415, -1.04795165,  0.66841831,  0.76451218,\n",
              "        -1.34871863],\n",
              "       [ 1.21011612,  1.95675146, -0.87465901, -1.04350755,  1.06419181,\n",
              "         0.11906273],\n",
              "       [-1.75454189, -0.05776458,  0.65460789,  0.41059657, -2.0943412 ,\n",
              "        -1.12866557]])"
            ]
          },
          "metadata": {
            "tags": []
          },
          "execution_count": 87
        }
      ]
    },
    {
      "cell_type": "code",
      "metadata": {
        "id": "2O3-9YKpWZ5L",
        "outputId": "ccce7bec-a597-4f2b-ad5f-50bbdf3ded1c",
        "colab": {
          "base_uri": "https://localhost:8080/",
          "height": 68
        }
      },
      "source": [
        "X = np.array([[1,2,4],[3,6,8],[4,8,9]])\n",
        "X"
      ],
      "execution_count": 88,
      "outputs": [
        {
          "output_type": "execute_result",
          "data": {
            "text/plain": [
              "array([[1, 2, 4],\n",
              "       [3, 6, 8],\n",
              "       [4, 8, 9]])"
            ]
          },
          "metadata": {
            "tags": []
          },
          "execution_count": 88
        }
      ]
    },
    {
      "cell_type": "code",
      "metadata": {
        "id": "4D5cwoiGkIeW",
        "outputId": "3348cbb8-ec23-4f2e-bd77-96545b18ebdd",
        "colab": {
          "base_uri": "https://localhost:8080/",
          "height": 34
        }
      },
      "source": [
        "X[1,2], X[:,2], X[2,:], X[2,2]\n"
      ],
      "execution_count": 89,
      "outputs": [
        {
          "output_type": "execute_result",
          "data": {
            "text/plain": [
              "(8, array([4, 8, 9]), array([4, 8, 9]), 9)"
            ]
          },
          "metadata": {
            "tags": []
          },
          "execution_count": 89
        }
      ]
    },
    {
      "cell_type": "code",
      "metadata": {
        "id": "dKwTLIKXki5t",
        "outputId": "be4259c8-59cd-4624-e1b6-4594811aa508",
        "colab": {
          "base_uri": "https://localhost:8080/",
          "height": 34
        }
      },
      "source": [
        "LL = [[1,2,4],[3,6,8],[4,8,9]]\n",
        "LL[1][2]"
      ],
      "execution_count": 90,
      "outputs": [
        {
          "output_type": "execute_result",
          "data": {
            "text/plain": [
              "8"
            ]
          },
          "metadata": {
            "tags": []
          },
          "execution_count": 90
        }
      ]
    },
    {
      "cell_type": "markdown",
      "metadata": {
        "id": "pt8lcoCVk-0H"
      },
      "source": [
        "# Array Indexing"
      ]
    },
    {
      "cell_type": "code",
      "metadata": {
        "id": "5GJrrdaOk7--",
        "outputId": "7bd1a2d2-6ea5-4fad-d869-971c9573c676",
        "colab": {
          "base_uri": "https://localhost:8080/",
          "height": 221
        }
      },
      "source": [
        "X = np.random.rand(6,6) #all members between o and 1, chosen randomly\n",
        "X"
      ],
      "execution_count": 91,
      "outputs": [
        {
          "output_type": "execute_result",
          "data": {
            "text/plain": [
              "array([[0.38504865, 0.77890424, 0.44740573, 0.15337864, 0.59155833,\n",
              "        0.87307387],\n",
              "       [0.25011216, 0.35000801, 0.58608986, 0.3567943 , 0.87595669,\n",
              "        0.36925812],\n",
              "       [0.38007309, 0.76120553, 0.43309595, 0.14441239, 0.61826918,\n",
              "        0.95444308],\n",
              "       [0.21921801, 0.92863611, 0.0171054 , 0.1455899 , 0.34442168,\n",
              "        0.30160523],\n",
              "       [0.35045091, 0.51188528, 0.58752634, 0.94155377, 0.17530019,\n",
              "        0.89096348],\n",
              "       [0.65707403, 0.84850768, 0.7453799 , 0.8451025 , 0.91456333,\n",
              "        0.61209033]])"
            ]
          },
          "metadata": {
            "tags": []
          },
          "execution_count": 91
        }
      ]
    },
    {
      "cell_type": "code",
      "metadata": {
        "id": "wsCg39knUrPp",
        "outputId": "c65b4bb2-0286-496a-aeba-6f3c4f058966",
        "colab": {
          "base_uri": "https://localhost:8080/",
          "height": 51
        }
      },
      "source": [
        "X[1]"
      ],
      "execution_count": 92,
      "outputs": [
        {
          "output_type": "execute_result",
          "data": {
            "text/plain": [
              "array([0.25011216, 0.35000801, 0.58608986, 0.3567943 , 0.87595669,\n",
              "       0.36925812])"
            ]
          },
          "metadata": {
            "tags": []
          },
          "execution_count": 92
        }
      ]
    },
    {
      "cell_type": "code",
      "metadata": {
        "id": "5GJD3AkBlzui",
        "outputId": "ff1b7af0-8106-4321-e16d-2ba255fe0305",
        "colab": {
          "base_uri": "https://localhost:8080/",
          "height": 34
        }
      },
      "source": [
        "X[2,3]"
      ],
      "execution_count": 93,
      "outputs": [
        {
          "output_type": "execute_result",
          "data": {
            "text/plain": [
              "0.14441239344432666"
            ]
          },
          "metadata": {
            "tags": []
          },
          "execution_count": 93
        }
      ]
    },
    {
      "cell_type": "code",
      "metadata": {
        "id": "XWvYyl2ml2W5",
        "outputId": "48e7c888-1f42-4685-c9ec-064746d4b078",
        "colab": {
          "base_uri": "https://localhost:8080/",
          "height": 153
        }
      },
      "source": [
        "X[2:]"
      ],
      "execution_count": 94,
      "outputs": [
        {
          "output_type": "execute_result",
          "data": {
            "text/plain": [
              "array([[0.38007309, 0.76120553, 0.43309595, 0.14441239, 0.61826918,\n",
              "        0.95444308],\n",
              "       [0.21921801, 0.92863611, 0.0171054 , 0.1455899 , 0.34442168,\n",
              "        0.30160523],\n",
              "       [0.35045091, 0.51188528, 0.58752634, 0.94155377, 0.17530019,\n",
              "        0.89096348],\n",
              "       [0.65707403, 0.84850768, 0.7453799 , 0.8451025 , 0.91456333,\n",
              "        0.61209033]])"
            ]
          },
          "metadata": {
            "tags": []
          },
          "execution_count": 94
        }
      ]
    },
    {
      "cell_type": "code",
      "metadata": {
        "id": "TxS_YVGul66J",
        "outputId": "afa722ce-962c-416e-93e7-b78c921ca90c",
        "colab": {
          "base_uri": "https://localhost:8080/",
          "height": 51
        }
      },
      "source": [
        "X[:,2]"
      ],
      "execution_count": 95,
      "outputs": [
        {
          "output_type": "execute_result",
          "data": {
            "text/plain": [
              "array([0.44740573, 0.58608986, 0.43309595, 0.0171054 , 0.58752634,\n",
              "       0.7453799 ])"
            ]
          },
          "metadata": {
            "tags": []
          },
          "execution_count": 95
        }
      ]
    },
    {
      "cell_type": "code",
      "metadata": {
        "id": "tlT7QtgDmD8H",
        "outputId": "7e6f4679-5154-4518-ae9a-e862689b74c3",
        "colab": {
          "base_uri": "https://localhost:8080/",
          "height": 51
        }
      },
      "source": [
        "X[:,3]"
      ],
      "execution_count": 96,
      "outputs": [
        {
          "output_type": "execute_result",
          "data": {
            "text/plain": [
              "array([0.15337864, 0.3567943 , 0.14441239, 0.1455899 , 0.94155377,\n",
              "       0.8451025 ])"
            ]
          },
          "metadata": {
            "tags": []
          },
          "execution_count": 96
        }
      ]
    },
    {
      "cell_type": "code",
      "metadata": {
        "id": "RZnYUb-xmH3z",
        "outputId": "b4acc933-80a5-4d94-e72e-fffd0d378929",
        "colab": {
          "base_uri": "https://localhost:8080/",
          "height": 34
        }
      },
      "source": [
        "X[1:2,3:4]"
      ],
      "execution_count": 97,
      "outputs": [
        {
          "output_type": "execute_result",
          "data": {
            "text/plain": [
              "array([[0.3567943]])"
            ]
          },
          "metadata": {
            "tags": []
          },
          "execution_count": 97
        }
      ]
    },
    {
      "cell_type": "code",
      "metadata": {
        "id": "HnMckUW8mYUY",
        "outputId": "1d2ce290-aba0-49b0-d76f-f77df4723869",
        "colab": {
          "base_uri": "https://localhost:8080/",
          "height": 85
        }
      },
      "source": [
        "for i in range(4):\n",
        "    for j in range(4):\n",
        "        if i== j:\n",
        "            print(X[i,j])"
      ],
      "execution_count": 98,
      "outputs": [
        {
          "output_type": "stream",
          "text": [
            "0.38504864866967414\n",
            "0.3500080067821144\n",
            "0.4330959519608807\n",
            "0.14558989965096947\n"
          ],
          "name": "stdout"
        }
      ]
    },
    {
      "cell_type": "code",
      "metadata": {
        "id": "9cKNRzIGm2lb",
        "outputId": "f8cfdd34-1aeb-41a2-97f4-e305c88f6b82",
        "colab": {
          "base_uri": "https://localhost:8080/",
          "height": 51
        }
      },
      "source": [
        "np.diag(X)"
      ],
      "execution_count": 99,
      "outputs": [
        {
          "output_type": "execute_result",
          "data": {
            "text/plain": [
              "array([0.38504865, 0.35000801, 0.43309595, 0.1455899 , 0.17530019,\n",
              "       0.61209033])"
            ]
          },
          "metadata": {
            "tags": []
          },
          "execution_count": 99
        }
      ]
    },
    {
      "cell_type": "markdown",
      "metadata": {
        "id": "N6T8Eh1sowiY"
      },
      "source": [
        "# Visualization of an array"
      ]
    },
    {
      "cell_type": "code",
      "metadata": {
        "id": "IIcMBkMVo5Lg"
      },
      "source": [
        "import matplotlib.pyplot as plt\n",
        "import seaborn as sns\n",
        "sns.set()"
      ],
      "execution_count": 100,
      "outputs": []
    },
    {
      "cell_type": "code",
      "metadata": {
        "id": "Kh5lqT-lpKuv"
      },
      "source": [
        "X = np.random.rand(10,10)"
      ],
      "execution_count": 107,
      "outputs": []
    },
    {
      "cell_type": "code",
      "metadata": {
        "id": "ymItUezZpWcG",
        "outputId": "cf3858e9-bd80-49b2-9035-91e291c84a5a",
        "colab": {
          "base_uri": "https://localhost:8080/",
          "height": 502
        }
      },
      "source": [
        "plt.figure(figsize = [10,8])\n",
        "sns.heatmap(X, annot = True, cmap = \"YlGnBu\")"
      ],
      "execution_count": 108,
      "outputs": [
        {
          "output_type": "execute_result",
          "data": {
            "text/plain": [
              "<matplotlib.axes._subplots.AxesSubplot at 0x7f99c81cc4a8>"
            ]
          },
          "metadata": {
            "tags": []
          },
          "execution_count": 108
        },
        {
          "output_type": "display_data",
          "data": {
            "image/png": "[encoded data removed]",
            "text/plain": [
              "<Figure size 720x576 with 2 Axes>"
            ]
          },
          "metadata": {
            "tags": []
          }
        }
      ]
    },
    {
      "cell_type": "code",
      "metadata": {
        "id": "BFyTw-4BpyRJ",
        "outputId": "4c34de2a-fb25-4960-e7da-97992ce07f64",
        "colab": {
          "base_uri": "https://localhost:8080/",
          "height": 285
        }
      },
      "source": [
        "sns.heatmap(X, annot = False, cmap = \"YlGnBu\")"
      ],
      "execution_count": 109,
      "outputs": [
        {
          "output_type": "execute_result",
          "data": {
            "text/plain": [
              "<matplotlib.axes._subplots.AxesSubplot at 0x7f99c74fe0b8>"
            ]
          },
          "metadata": {
            "tags": []
          },
          "execution_count": 109
        },
        {
          "output_type": "display_data",
          "data": {
            "image/png": "[encoded data removed]",
            "text/plain": [
              "<Figure size 432x288 with 2 Axes>"
            ]
          },
          "metadata": {
            "tags": []
          }
        }
      ]
    },
    {
      "cell_type": "markdown",
      "metadata": {
        "id": "f1OphX_OqIke"
      },
      "source": [
        "# Subarray:\n",
        "\n",
        "Splitting to 4 subarrays"
      ]
    },
    {
      "cell_type": "code",
      "metadata": {
        "id": "wmZxn1ZYqWV8",
        "outputId": "59ccc8dc-f34e-47f7-d424-6db509781235",
        "colab": {
          "base_uri": "https://localhost:8080/",
          "height": 465
        }
      },
      "source": [
        "plt.figure(figsize = [13,9])\n",
        "\n",
        "plt.subplot(2,2,1)\n",
        "sns.heatmap(X[0:5,0:5], annot = True)\n",
        "\n",
        "plt.subplot(2,2,2)\n",
        "sns.heatmap(X[0:5,5:10], annot = True)\n",
        "\n",
        "plt.subplot(2,2,3)\n",
        "sns.heatmap(X[5:10,0:5], annot = True)\n",
        "\n",
        "plt.subplot(2,2,4)\n",
        "sns.heatmap(X[5:10,5:10], annot = True)\n",
        "\n",
        "plt.show()\n"
      ],
      "execution_count": 110,
      "outputs": [
        {
          "output_type": "display_data",
          "data": {
            "image/png": "[encoded data removed]",
            "text/plain": [
              "<Figure size 936x648 with 8 Axes>"
            ]
          },
          "metadata": {
            "tags": []
          }
        }
      ]
    },
    {
      "cell_type": "markdown",
      "metadata": {
        "id": "V-9kfLhosXOD"
      },
      "source": [
        "# Shape:\n",
        "\n",
        "Change shape of array from [10 by 10] to [20 by 5]"
      ]
    },
    {
      "cell_type": "markdown",
      "metadata": {
        "id": "AHysewGPsqQB"
      },
      "source": [
        " * Find Array shape"
      ]
    },
    {
      "cell_type": "code",
      "metadata": {
        "id": "AgZausMusH5H",
        "outputId": "a8bba628-39ca-45e8-f665-614fe3492ce8",
        "colab": {
          "base_uri": "https://localhost:8080/",
          "height": 34
        }
      },
      "source": [
        "X.shape"
      ],
      "execution_count": 111,
      "outputs": [
        {
          "output_type": "execute_result",
          "data": {
            "text/plain": [
              "(10, 10)"
            ]
          },
          "metadata": {
            "tags": []
          },
          "execution_count": 111
        }
      ]
    },
    {
      "cell_type": "markdown",
      "metadata": {
        "id": "4cweX4H9tLeg"
      },
      "source": [
        "* Modify shape"
      ]
    },
    {
      "cell_type": "code",
      "metadata": {
        "id": "Md995HS4qA2j",
        "outputId": "ab243f8b-a86d-42c8-ee32-1cc7c750deab",
        "colab": {
          "base_uri": "https://localhost:8080/",
          "height": 357
        }
      },
      "source": [
        "X.shape = (20,5)\n",
        "X"
      ],
      "execution_count": 112,
      "outputs": [
        {
          "output_type": "execute_result",
          "data": {
            "text/plain": [
              "array([[0.68287482, 0.16280942, 0.57161968, 0.63994142, 0.68093361],\n",
              "       [0.85441211, 0.26490371, 0.03899552, 0.91899447, 0.6268522 ],\n",
              "       [0.50848246, 0.77136719, 0.14420209, 0.03902313, 0.94558577],\n",
              "       [0.21351039, 0.42110367, 0.6921879 , 0.61987596, 0.31585645],\n",
              "       [0.0414044 , 0.1072837 , 0.52767899, 0.65041385, 0.82286839],\n",
              "       [0.29422746, 0.95119996, 0.35377615, 0.80401637, 0.33971708],\n",
              "       [0.46724665, 0.53037124, 0.23394457, 0.40104594, 0.84264715],\n",
              "       [0.17007604, 0.43224366, 0.37262803, 0.43967349, 0.82917347],\n",
              "       [0.471878  , 0.38182597, 0.64210759, 0.65535537, 0.92567296],\n",
              "       [0.34713581, 0.4713573 , 0.13092049, 0.53623361, 0.56579036],\n",
              "       [0.95045554, 0.52649091, 0.51040722, 0.01590304, 0.82322957],\n",
              "       [0.25124365, 0.67643792, 0.81243972, 0.71268397, 0.96845748],\n",
              "       [0.72483534, 0.31850705, 0.12953097, 0.76962087, 0.90624742],\n",
              "       [0.3186552 , 0.24458221, 0.34846724, 0.72145836, 0.35020672],\n",
              "       [0.10672946, 0.85133155, 0.03011147, 0.26921464, 0.50117618],\n",
              "       [0.91217046, 0.20067859, 0.58976527, 0.967126  , 0.52305387],\n",
              "       [0.82040273, 0.64644636, 0.24485429, 0.05807245, 0.66397594],\n",
              "       [0.52311974, 0.72109856, 0.2740221 , 0.77747343, 0.22697369],\n",
              "       [0.62189812, 0.18759639, 0.8204005 , 0.11610949, 0.4958858 ],\n",
              "       [0.66089496, 0.43396409, 0.97072223, 0.02711652, 0.05033299]])"
            ]
          },
          "metadata": {
            "tags": []
          },
          "execution_count": 112
        }
      ]
    },
    {
      "cell_type": "markdown",
      "metadata": {
        "id": "aErxWutyuOYu"
      },
      "source": [
        "# Reshaping the Array"
      ]
    },
    {
      "cell_type": "code",
      "metadata": {
        "id": "5LJaBou2tbYL",
        "outputId": "ff1e2ca0-7c55-4f9c-8ae2-352ae498a055",
        "colab": {
          "base_uri": "https://localhost:8080/",
          "height": 51
        }
      },
      "source": [
        "X = np.arange(0,35,2) #start, end, incriment\n",
        "len(X), X"
      ],
      "execution_count": 119,
      "outputs": [
        {
          "output_type": "execute_result",
          "data": {
            "text/plain": [
              "(18, array([ 0,  2,  4,  6,  8, 10, 12, 14, 16, 18, 20, 22, 24, 26, 28, 30, 32,\n",
              "        34]))"
            ]
          },
          "metadata": {
            "tags": []
          },
          "execution_count": 119
        }
      ]
    },
    {
      "cell_type": "code",
      "metadata": {
        "id": "yhstvkI7ur1h",
        "outputId": "9b7fef4a-b738-494a-f630-b39457f88b3f",
        "colab": {
          "base_uri": "https://localhost:8080/",
          "height": 68
        }
      },
      "source": [
        "X = np.arange(0,35,1) #start, end, incriment\n",
        "len(X) , X"
      ],
      "execution_count": 120,
      "outputs": [
        {
          "output_type": "execute_result",
          "data": {
            "text/plain": [
              "(35, array([ 0,  1,  2,  3,  4,  5,  6,  7,  8,  9, 10, 11, 12, 13, 14, 15, 16,\n",
              "        17, 18, 19, 20, 21, 22, 23, 24, 25, 26, 27, 28, 29, 30, 31, 32, 33,\n",
              "        34]))"
            ]
          },
          "metadata": {
            "tags": []
          },
          "execution_count": 120
        }
      ]
    },
    {
      "cell_type": "code",
      "metadata": {
        "id": "nvBEEJZAu_6I",
        "outputId": "ce6361a2-caa1-4c30-d8fd-d63819433a1b",
        "colab": {
          "base_uri": "https://localhost:8080/",
          "height": 85
        }
      },
      "source": [
        "Y = np.linspace(0,35,18) #start, end, steos\n",
        "Y"
      ],
      "execution_count": 121,
      "outputs": [
        {
          "output_type": "execute_result",
          "data": {
            "text/plain": [
              "array([ 0.        ,  2.05882353,  4.11764706,  6.17647059,  8.23529412,\n",
              "       10.29411765, 12.35294118, 14.41176471, 16.47058824, 18.52941176,\n",
              "       20.58823529, 22.64705882, 24.70588235, 26.76470588, 28.82352941,\n",
              "       30.88235294, 32.94117647, 35.        ])"
            ]
          },
          "metadata": {
            "tags": []
          },
          "execution_count": 121
        }
      ]
    },
    {
      "cell_type": "code",
      "metadata": {
        "id": "Tg3NSFvtvXhH"
      },
      "source": [
        "XX = np.reshape(X, (7,5))"
      ],
      "execution_count": 122,
      "outputs": []
    },
    {
      "cell_type": "code",
      "metadata": {
        "id": "hw4XqjW-vlr0",
        "outputId": "638bcbb9-f8de-4eee-bb5d-1e7a26170321",
        "colab": {
          "base_uri": "https://localhost:8080/",
          "height": 136
        }
      },
      "source": [
        "XX"
      ],
      "execution_count": 123,
      "outputs": [
        {
          "output_type": "execute_result",
          "data": {
            "text/plain": [
              "array([[ 0,  1,  2,  3,  4],\n",
              "       [ 5,  6,  7,  8,  9],\n",
              "       [10, 11, 12, 13, 14],\n",
              "       [15, 16, 17, 18, 19],\n",
              "       [20, 21, 22, 23, 24],\n",
              "       [25, 26, 27, 28, 29],\n",
              "       [30, 31, 32, 33, 34]])"
            ]
          },
          "metadata": {
            "tags": []
          },
          "execution_count": 123
        }
      ]
    },
    {
      "cell_type": "code",
      "metadata": {
        "id": "mpcbUkaBwOIw",
        "outputId": "508a62e0-e213-42f4-b473-ccf1f5793318",
        "colab": {
          "base_uri": "https://localhost:8080/",
          "height": 68
        }
      },
      "source": [
        "X = np.arange(40).reshape(8,5)\n",
        "X\n",
        "X.flatten()"
      ],
      "execution_count": 124,
      "outputs": [
        {
          "output_type": "execute_result",
          "data": {
            "text/plain": [
              "array([ 0,  1,  2,  3,  4,  5,  6,  7,  8,  9, 10, 11, 12, 13, 14, 15, 16,\n",
              "       17, 18, 19, 20, 21, 22, 23, 24, 25, 26, 27, 28, 29, 30, 31, 32, 33,\n",
              "       34, 35, 36, 37, 38, 39])"
            ]
          },
          "metadata": {
            "tags": []
          },
          "execution_count": 124
        }
      ]
    },
    {
      "cell_type": "markdown",
      "metadata": {
        "id": "8NjErYqMmi7Q"
      },
      "source": [
        "# Flatten the Array"
      ]
    },
    {
      "cell_type": "code",
      "metadata": {
        "id": "4Fa1cUhimht8",
        "outputId": "14e1fb03-98ce-425e-befc-bd11f1330163",
        "colab": {
          "base_uri": "https://localhost:8080/",
          "height": 34
        }
      },
      "source": [
        "X = np.random.rand(4,5)\n",
        "Y = X.flatten()\n",
        "Y.shape"
      ],
      "execution_count": 125,
      "outputs": [
        {
          "output_type": "execute_result",
          "data": {
            "text/plain": [
              "(20,)"
            ]
          },
          "metadata": {
            "tags": []
          },
          "execution_count": 125
        }
      ]
    },
    {
      "cell_type": "code",
      "metadata": {
        "id": "2Wajmt6km-u4",
        "outputId": "f728e56f-b6c0-4bed-efb6-2f63350cd41a",
        "colab": {
          "base_uri": "https://localhost:8080/",
          "height": 85
        }
      },
      "source": [
        "X"
      ],
      "execution_count": 126,
      "outputs": [
        {
          "output_type": "execute_result",
          "data": {
            "text/plain": [
              "array([[0.88490713, 0.04457471, 0.77539443, 0.00132102, 0.76485764],\n",
              "       [0.20747495, 0.80246522, 0.39892024, 0.04486282, 0.50694931],\n",
              "       [0.11493128, 0.36784102, 0.0102474 , 0.75625919, 0.00949054],\n",
              "       [0.40859988, 0.58258634, 0.27261536, 0.29892183, 0.90180515]])"
            ]
          },
          "metadata": {
            "tags": []
          },
          "execution_count": 126
        }
      ]
    },
    {
      "cell_type": "code",
      "metadata": {
        "id": "tOwAMHgGnDXH",
        "outputId": "81126b59-1be3-41d9-b493-0cc29f0ad9a0",
        "colab": {
          "base_uri": "https://localhost:8080/",
          "height": 34
        }
      },
      "source": [
        "type(X)"
      ],
      "execution_count": 127,
      "outputs": [
        {
          "output_type": "execute_result",
          "data": {
            "text/plain": [
              "numpy.ndarray"
            ]
          },
          "metadata": {
            "tags": []
          },
          "execution_count": 127
        }
      ]
    },
    {
      "cell_type": "code",
      "metadata": {
        "id": "rzrQ06uXnITp",
        "outputId": "93df8020-12e0-4f08-bdf9-eed1380518da",
        "colab": {
          "base_uri": "https://localhost:8080/",
          "height": 85
        }
      },
      "source": [
        "Y = X.flatten()\n",
        "Y"
      ],
      "execution_count": 128,
      "outputs": [
        {
          "output_type": "execute_result",
          "data": {
            "text/plain": [
              "array([0.88490713, 0.04457471, 0.77539443, 0.00132102, 0.76485764,\n",
              "       0.20747495, 0.80246522, 0.39892024, 0.04486282, 0.50694931,\n",
              "       0.11493128, 0.36784102, 0.0102474 , 0.75625919, 0.00949054,\n",
              "       0.40859988, 0.58258634, 0.27261536, 0.29892183, 0.90180515])"
            ]
          },
          "metadata": {
            "tags": []
          },
          "execution_count": 128
        }
      ]
    },
    {
      "cell_type": "code",
      "metadata": {
        "id": "U-w-F8tqnS1q",
        "outputId": "55f3c083-6a30-4049-9dcb-4e3349a09c83",
        "colab": {
          "base_uri": "https://localhost:8080/",
          "height": 85
        }
      },
      "source": [
        "Y"
      ],
      "execution_count": 129,
      "outputs": [
        {
          "output_type": "execute_result",
          "data": {
            "text/plain": [
              "array([0.88490713, 0.04457471, 0.77539443, 0.00132102, 0.76485764,\n",
              "       0.20747495, 0.80246522, 0.39892024, 0.04486282, 0.50694931,\n",
              "       0.11493128, 0.36784102, 0.0102474 , 0.75625919, 0.00949054,\n",
              "       0.40859988, 0.58258634, 0.27261536, 0.29892183, 0.90180515])"
            ]
          },
          "metadata": {
            "tags": []
          },
          "execution_count": 129
        }
      ]
    },
    {
      "cell_type": "markdown",
      "metadata": {
        "id": "-K-3mdM5nVNt"
      },
      "source": [
        "# Concatenate the Array"
      ]
    },
    {
      "cell_type": "code",
      "metadata": {
        "id": "DeYjZaY2nfHa",
        "outputId": "b8927e45-41a0-4521-8faf-1455a98017c6",
        "colab": {
          "base_uri": "https://localhost:8080/",
          "height": 68
        }
      },
      "source": [
        "T = np.array([[3,4],[5,6]])\n",
        "R = np.array([[7,8],[9,10]])\n",
        "T, R"
      ],
      "execution_count": 131,
      "outputs": [
        {
          "output_type": "execute_result",
          "data": {
            "text/plain": [
              "(array([[3, 4],\n",
              "        [5, 6]]), array([[ 7,  8],\n",
              "        [ 9, 10]]))"
            ]
          },
          "metadata": {
            "tags": []
          },
          "execution_count": 131
        }
      ]
    },
    {
      "cell_type": "code",
      "metadata": {
        "id": "-Cfx2pjQoC1Z",
        "outputId": "90e772c1-4ee2-4263-e396-0c7d3d6762db",
        "colab": {
          "base_uri": "https://localhost:8080/",
          "height": 85
        }
      },
      "source": [
        "L = np.concatenate((T,R),axis = 0)\n",
        "L"
      ],
      "execution_count": 132,
      "outputs": [
        {
          "output_type": "execute_result",
          "data": {
            "text/plain": [
              "array([[ 3,  4],\n",
              "       [ 5,  6],\n",
              "       [ 7,  8],\n",
              "       [ 9, 10]])"
            ]
          },
          "metadata": {
            "tags": []
          },
          "execution_count": 132
        }
      ]
    },
    {
      "cell_type": "code",
      "metadata": {
        "id": "bVu5CiX3ouoO",
        "outputId": "9fa4a504-13d9-4304-ff67-ab4aa169dc28",
        "colab": {
          "base_uri": "https://localhost:8080/",
          "height": 51
        }
      },
      "source": [
        "K = np.concatenate((T,R), axis = 1)\n",
        "K"
      ],
      "execution_count": 133,
      "outputs": [
        {
          "output_type": "execute_result",
          "data": {
            "text/plain": [
              "array([[ 3,  4,  7,  8],\n",
              "       [ 5,  6,  9, 10]])"
            ]
          },
          "metadata": {
            "tags": []
          },
          "execution_count": 133
        }
      ]
    },
    {
      "cell_type": "code",
      "metadata": {
        "id": "_XaqTWMhpDc6",
        "outputId": "9f39626e-a45f-42c4-f8c4-e91c14d83a76",
        "colab": {
          "base_uri": "https://localhost:8080/",
          "height": 357
        }
      },
      "source": [
        "A = np.random.rand(5,6)\n",
        "B = np.random.rand(5,6)\n",
        "A, B"
      ],
      "execution_count": 134,
      "outputs": [
        {
          "output_type": "execute_result",
          "data": {
            "text/plain": [
              "(array([[0.01204961, 0.11847845, 0.10475305, 0.85591637, 0.48640182,\n",
              "         0.8523963 ],\n",
              "        [0.98495619, 0.28107984, 0.91730324, 0.54253484, 0.3142324 ,\n",
              "         0.146065  ],\n",
              "        [0.48941581, 0.77260294, 0.02518756, 0.23199509, 0.01985785,\n",
              "         0.35353566],\n",
              "        [0.55119879, 0.0632881 , 0.43100185, 0.78368038, 0.08514009,\n",
              "         0.05705663],\n",
              "        [0.62634115, 0.23864895, 0.70824399, 0.62235641, 0.01509322,\n",
              "         0.59936261]]),\n",
              " array([[1.18730495e-01, 2.01512883e-01, 9.59330980e-01, 7.41015994e-01,\n",
              "         8.78232409e-01, 8.95733955e-02],\n",
              "        [6.43235910e-01, 5.43203557e-01, 3.45257670e-01, 9.28011962e-01,\n",
              "         9.44761980e-01, 8.52895154e-02],\n",
              "        [8.04427878e-02, 4.04295358e-01, 6.23166210e-01, 2.18415237e-01,\n",
              "         5.99619306e-01, 5.58782732e-01],\n",
              "        [8.67320726e-01, 7.23085409e-01, 3.64183513e-04, 6.21929739e-01,\n",
              "         1.15198746e-01, 6.00159453e-01],\n",
              "        [9.05335913e-01, 1.25610718e-01, 4.84876908e-01, 5.91690671e-01,\n",
              "         8.71513035e-01, 9.98669893e-01]]))"
            ]
          },
          "metadata": {
            "tags": []
          },
          "execution_count": 134
        }
      ]
    },
    {
      "cell_type": "markdown",
      "metadata": {
        "id": "xwlHEh2YpZRv"
      },
      "source": [
        "# Verticle Addition"
      ]
    },
    {
      "cell_type": "code",
      "metadata": {
        "id": "39Jt29ZepWFv"
      },
      "source": [
        "C = np.concatenate((A,B), axis = 0)"
      ],
      "execution_count": 135,
      "outputs": []
    },
    {
      "cell_type": "code",
      "metadata": {
        "id": "KVF9WV_9puJ8",
        "outputId": "066d80cd-0fd4-45f1-8913-480769e38875",
        "colab": {
          "base_uri": "https://localhost:8080/",
          "height": 357
        }
      },
      "source": [
        "C"
      ],
      "execution_count": 136,
      "outputs": [
        {
          "output_type": "execute_result",
          "data": {
            "text/plain": [
              "array([[1.20496127e-02, 1.18478445e-01, 1.04753050e-01, 8.55916365e-01,\n",
              "        4.86401822e-01, 8.52396296e-01],\n",
              "       [9.84956193e-01, 2.81079840e-01, 9.17303237e-01, 5.42534837e-01,\n",
              "        3.14232401e-01, 1.46064998e-01],\n",
              "       [4.89415814e-01, 7.72602939e-01, 2.51875560e-02, 2.31995090e-01,\n",
              "        1.98578540e-02, 3.53535665e-01],\n",
              "       [5.51198788e-01, 6.32880994e-02, 4.31001845e-01, 7.83680379e-01,\n",
              "        8.51400901e-02, 5.70566280e-02],\n",
              "       [6.26341154e-01, 2.38648946e-01, 7.08243994e-01, 6.22356410e-01,\n",
              "        1.50932210e-02, 5.99362614e-01],\n",
              "       [1.18730495e-01, 2.01512883e-01, 9.59330980e-01, 7.41015994e-01,\n",
              "        8.78232409e-01, 8.95733955e-02],\n",
              "       [6.43235910e-01, 5.43203557e-01, 3.45257670e-01, 9.28011962e-01,\n",
              "        9.44761980e-01, 8.52895154e-02],\n",
              "       [8.04427878e-02, 4.04295358e-01, 6.23166210e-01, 2.18415237e-01,\n",
              "        5.99619306e-01, 5.58782732e-01],\n",
              "       [8.67320726e-01, 7.23085409e-01, 3.64183513e-04, 6.21929739e-01,\n",
              "        1.15198746e-01, 6.00159453e-01],\n",
              "       [9.05335913e-01, 1.25610718e-01, 4.84876908e-01, 5.91690671e-01,\n",
              "        8.71513035e-01, 9.98669893e-01]])"
            ]
          },
          "metadata": {
            "tags": []
          },
          "execution_count": 136
        }
      ]
    },
    {
      "cell_type": "code",
      "metadata": {
        "id": "rbd1oLBppw3a"
      },
      "source": [
        "D = np.concatenate((A,B),axis = 1)"
      ],
      "execution_count": 137,
      "outputs": []
    },
    {
      "cell_type": "code",
      "metadata": {
        "id": "CajQYxVVp_i9",
        "outputId": "7df8e91e-5412-4973-c109-9d913634d1f8",
        "colab": {
          "base_uri": "https://localhost:8080/",
          "height": 272
        }
      },
      "source": [
        "D"
      ],
      "execution_count": 138,
      "outputs": [
        {
          "output_type": "execute_result",
          "data": {
            "text/plain": [
              "array([[1.20496127e-02, 1.18478445e-01, 1.04753050e-01, 8.55916365e-01,\n",
              "        4.86401822e-01, 8.52396296e-01, 1.18730495e-01, 2.01512883e-01,\n",
              "        9.59330980e-01, 7.41015994e-01, 8.78232409e-01, 8.95733955e-02],\n",
              "       [9.84956193e-01, 2.81079840e-01, 9.17303237e-01, 5.42534837e-01,\n",
              "        3.14232401e-01, 1.46064998e-01, 6.43235910e-01, 5.43203557e-01,\n",
              "        3.45257670e-01, 9.28011962e-01, 9.44761980e-01, 8.52895154e-02],\n",
              "       [4.89415814e-01, 7.72602939e-01, 2.51875560e-02, 2.31995090e-01,\n",
              "        1.98578540e-02, 3.53535665e-01, 8.04427878e-02, 4.04295358e-01,\n",
              "        6.23166210e-01, 2.18415237e-01, 5.99619306e-01, 5.58782732e-01],\n",
              "       [5.51198788e-01, 6.32880994e-02, 4.31001845e-01, 7.83680379e-01,\n",
              "        8.51400901e-02, 5.70566280e-02, 8.67320726e-01, 7.23085409e-01,\n",
              "        3.64183513e-04, 6.21929739e-01, 1.15198746e-01, 6.00159453e-01],\n",
              "       [6.26341154e-01, 2.38648946e-01, 7.08243994e-01, 6.22356410e-01,\n",
              "        1.50932210e-02, 5.99362614e-01, 9.05335913e-01, 1.25610718e-01,\n",
              "        4.84876908e-01, 5.91690671e-01, 8.71513035e-01, 9.98669893e-01]])"
            ]
          },
          "metadata": {
            "tags": []
          },
          "execution_count": 138
        }
      ]
    },
    {
      "cell_type": "markdown",
      "metadata": {
        "id": "EJF85Z3LqISd"
      },
      "source": [
        "# Row sum and Column sum"
      ]
    },
    {
      "cell_type": "code",
      "metadata": {
        "id": "KDlgEC0-qCNB"
      },
      "source": [
        "X = np.random.rand(9,7)"
      ],
      "execution_count": 139,
      "outputs": []
    },
    {
      "cell_type": "markdown",
      "metadata": {
        "id": "4M8UzE81qfBE"
      },
      "source": [
        "sum of all elements"
      ]
    },
    {
      "cell_type": "code",
      "metadata": {
        "id": "EmB120MgqifT",
        "outputId": "87af1bad-c4d8-4c4b-a151-7d795cff389b",
        "colab": {
          "base_uri": "https://localhost:8080/",
          "height": 34
        }
      },
      "source": [
        "X.sum()"
      ],
      "execution_count": 140,
      "outputs": [
        {
          "output_type": "execute_result",
          "data": {
            "text/plain": [
              "35.05347160682812"
            ]
          },
          "metadata": {
            "tags": []
          },
          "execution_count": 140
        }
      ]
    },
    {
      "cell_type": "markdown",
      "metadata": {
        "id": "EaaM-fo1qmVX"
      },
      "source": [
        "# Row sum"
      ]
    },
    {
      "cell_type": "code",
      "metadata": {
        "id": "n--RX09VqtLD",
        "outputId": "4e921f5b-e3bf-4982-e401-8f2e98f1d603",
        "colab": {
          "base_uri": "https://localhost:8080/",
          "height": 51
        }
      },
      "source": [
        "np.sum(X,axis = 0)"
      ],
      "execution_count": 142,
      "outputs": [
        {
          "output_type": "execute_result",
          "data": {
            "text/plain": [
              "array([4.73817012, 4.15300426, 6.10346745, 4.73868839, 4.88378628,\n",
              "       5.6204509 , 4.81590422])"
            ]
          },
          "metadata": {
            "tags": []
          },
          "execution_count": 142
        }
      ]
    },
    {
      "cell_type": "code",
      "metadata": {
        "id": "Ci-RUyJaq3KE"
      },
      "source": [
        "T = np.array([[3,4],[5,6]])\n",
        "R = np.array([[7,8],[9,10]])"
      ],
      "execution_count": 143,
      "outputs": []
    },
    {
      "cell_type": "code",
      "metadata": {
        "id": "JWD4nZsrrahG",
        "outputId": "fe21bb34-6253-4ab3-b890-a0af277f42d2",
        "colab": {
          "base_uri": "https://localhost:8080/",
          "height": 34
        }
      },
      "source": [
        "np.sum(T),np.sum(R)"
      ],
      "execution_count": 144,
      "outputs": [
        {
          "output_type": "execute_result",
          "data": {
            "text/plain": [
              "(18, 34)"
            ]
          },
          "metadata": {
            "tags": []
          },
          "execution_count": 144
        }
      ]
    },
    {
      "cell_type": "code",
      "metadata": {
        "id": "kpV35kVori8p",
        "outputId": "d5caff0b-bb01-45b2-aa56-1df89f39567d",
        "colab": {
          "base_uri": "https://localhost:8080/",
          "height": 34
        }
      },
      "source": [
        "np.sum(T, axis = 1) #addition of row"
      ],
      "execution_count": 145,
      "outputs": [
        {
          "output_type": "execute_result",
          "data": {
            "text/plain": [
              "array([ 7, 11])"
            ]
          },
          "metadata": {
            "tags": []
          },
          "execution_count": 145
        }
      ]
    },
    {
      "cell_type": "code",
      "metadata": {
        "id": "GXHod-qerw46",
        "outputId": "bdfb5614-897e-4128-a902-816df2687d92",
        "colab": {
          "base_uri": "https://localhost:8080/",
          "height": 34
        }
      },
      "source": [
        "np.sum(T, axis = 0)"
      ],
      "execution_count": 146,
      "outputs": [
        {
          "output_type": "execute_result",
          "data": {
            "text/plain": [
              "array([ 8, 10])"
            ]
          },
          "metadata": {
            "tags": []
          },
          "execution_count": 146
        }
      ]
    },
    {
      "cell_type": "markdown",
      "metadata": {
        "id": "DQwG7UFsr9Np"
      },
      "source": [
        "# Column sum"
      ]
    },
    {
      "cell_type": "code",
      "metadata": {
        "id": "QO-eJtD-sArR",
        "outputId": "0286f9de-33e3-4edd-cb56-2ea8e35da310",
        "colab": {
          "base_uri": "https://localhost:8080/",
          "height": 51
        }
      },
      "source": [
        "np.sum(X, axis = 1)"
      ],
      "execution_count": 147,
      "outputs": [
        {
          "output_type": "execute_result",
          "data": {
            "text/plain": [
              "array([2.88294989, 4.48689204, 3.38209832, 4.81971894, 3.51582596,\n",
              "       4.4280664 , 3.95991052, 2.99767642, 4.58033312])"
            ]
          },
          "metadata": {
            "tags": []
          },
          "execution_count": 147
        }
      ]
    }
  ]
}