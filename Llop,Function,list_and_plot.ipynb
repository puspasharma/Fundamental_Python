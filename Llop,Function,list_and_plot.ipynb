{
  "nbformat": 4,
  "nbformat_minor": 0,
  "metadata": {
    "colab": {
      "name": "Llop,Function,list and plot",
      "provenance": []
    },
    "kernelspec": {
      "name": "python3",
      "display_name": "Python 3"
    }
  },
  "cells": [
    {
      "cell_type": "markdown",
      "metadata": {
        "id": "fi9h7h7uCuaB",
        "colab_type": "text"
      },
      "source": [
        "#STARRT (31st shrawan,sunday \n",
        "\n"
      ]
    },
    {
      "cell_type": "markdown",
      "metadata": {
        "id": "i636kTcEZHxP",
        "colab_type": "text"
      },
      "source": [
        "# New Section"
      ]
    },
    {
      "cell_type": "code",
      "metadata": {
        "id": "Yw3PTejXCzAF",
        "colab_type": "code",
        "colab": {
          "base_uri": "https://localhost:8080/",
          "height": 51
        },
        "outputId": "d785d63d-0332-4b9e-a8a6-5dc059e156b6"
      },
      "source": [
        "A= (1+2+3)\n",
        "print(A)\n",
        "\n",
        "A= (8*2*1)\n",
        "print(A)"
      ],
      "execution_count": null,
      "outputs": [
        {
          "output_type": "stream",
          "text": [
            "6\n",
            "16\n"
          ],
          "name": "stdout"
        }
      ]
    },
    {
      "cell_type": "markdown",
      "metadata": {
        "id": "F6v9OPI6E7eS",
        "colab_type": "text"
      },
      "source": [
        "##LIST"
      ]
    },
    {
      "cell_type": "code",
      "metadata": {
        "id": "DuZMDOgMFHxw",
        "colab_type": "code",
        "colab": {
          "base_uri": "https://localhost:8080/",
          "height": 34
        },
        "outputId": "7014ae11-fc95-4acd-bf7a-0c9ef2f0f6b1"
      },
      "source": [
        "L=[]\n",
        "print(L)"
      ],
      "execution_count": null,
      "outputs": [
        {
          "output_type": "stream",
          "text": [
            "[]\n"
          ],
          "name": "stdout"
        }
      ]
    },
    {
      "cell_type": "code",
      "metadata": {
        "id": "ATMkElA2FdkM",
        "colab_type": "code",
        "colab": {
          "base_uri": "https://localhost:8080/",
          "height": 34
        },
        "outputId": "e4dc3240-bd51-4ce0-81a2-5e7abcd87694"
      },
      "source": [
        "L=[1,2,3,4,5,6,7,8,9]\n",
        "print(L)"
      ],
      "execution_count": null,
      "outputs": [
        {
          "output_type": "stream",
          "text": [
            "[1, 2, 3, 4, 5, 6, 7, 8, 9]\n"
          ],
          "name": "stdout"
        }
      ]
    },
    {
      "cell_type": "code",
      "metadata": {
        "id": "9yDerGSwGjKJ",
        "colab_type": "code",
        "colab": {
          "base_uri": "https://localhost:8080/",
          "height": 34
        },
        "outputId": "4169a50e-476f-497c-8427-64e1a0d6cd99"
      },
      "source": [
        "L[0],L[1],L[2],L[-1],L[-0],L[-9],L[8]"
      ],
      "execution_count": null,
      "outputs": [
        {
          "output_type": "execute_result",
          "data": {
            "text/plain": [
              "(1, 2, 3, 9, 1, 1, 9)"
            ]
          },
          "metadata": {
            "tags": []
          },
          "execution_count": 11
        }
      ]
    },
    {
      "cell_type": "code",
      "metadata": {
        "id": "R0IyjnQWGwRc",
        "colab_type": "code",
        "colab": {
          "base_uri": "https://localhost:8080/",
          "height": 34
        },
        "outputId": "2fd9f9b0-00da-4e0b-e5bc-32cfb01f991d"
      },
      "source": [
        "L.append(101)\n",
        "print(L)"
      ],
      "execution_count": null,
      "outputs": [
        {
          "output_type": "stream",
          "text": [
            "[1, 2, 3, 4, 5, 6, 7, 8, 9, 101]\n"
          ],
          "name": "stdout"
        }
      ]
    },
    {
      "cell_type": "code",
      "metadata": {
        "id": "kALuzZP7H-XE",
        "colab_type": "code",
        "colab": {
          "base_uri": "https://localhost:8080/",
          "height": 34
        },
        "outputId": "d2f4e804-996c-486e-a481-3987905ff9ab"
      },
      "source": [
        "L.remove(101)\n",
        "print(L)"
      ],
      "execution_count": null,
      "outputs": [
        {
          "output_type": "stream",
          "text": [
            "[1, 2, 3, 4, 5, 6, 7, 8, 9]\n"
          ],
          "name": "stdout"
        }
      ]
    },
    {
      "cell_type": "code",
      "metadata": {
        "id": "r2Wfoiq4IigF",
        "colab_type": "code",
        "colab": {
          "base_uri": "https://localhost:8080/",
          "height": 34
        },
        "outputId": "a97a736c-e7ad-4c1c-8042-2c119d42cac2"
      },
      "source": [
        "L.pop(4)\n",
        "print(L)"
      ],
      "execution_count": null,
      "outputs": [
        {
          "output_type": "stream",
          "text": [
            "[1, 2, 3, 4, 6, 7, 8, 9]\n"
          ],
          "name": "stdout"
        }
      ]
    },
    {
      "cell_type": "markdown",
      "metadata": {
        "id": "8OFIUEfnI8yn",
        "colab_type": "text"
      },
      "source": [
        "LIST OF **LIST**"
      ]
    },
    {
      "cell_type": "code",
      "metadata": {
        "id": "EtmbzbBzJGFA",
        "colab_type": "code",
        "colab": {
          "base_uri": "https://localhost:8080/",
          "height": 34
        },
        "outputId": "7e5c585e-7ef4-4d28-9785-d2a4991f2a82"
      },
      "source": [
        "A= [1,2,3],[2,3,4],[4,5,6,7,8,9],[1,2]\n",
        "print(A)"
      ],
      "execution_count": null,
      "outputs": [
        {
          "output_type": "stream",
          "text": [
            "([1, 2, 3], [2, 3, 4], [4, 5, 6, 7, 8, 9], [1, 2])\n"
          ],
          "name": "stdout"
        }
      ]
    },
    {
      "cell_type": "code",
      "metadata": {
        "id": "tWfjQIrNJeIj",
        "colab_type": "code",
        "colab": {
          "base_uri": "https://localhost:8080/",
          "height": 34
        },
        "outputId": "3758ec06-645b-4f6c-b478-e6c095af6c65"
      },
      "source": [
        "A[-4][-3]"
      ],
      "execution_count": null,
      "outputs": [
        {
          "output_type": "execute_result",
          "data": {
            "text/plain": [
              "1"
            ]
          },
          "metadata": {
            "tags": []
          },
          "execution_count": 21
        }
      ]
    },
    {
      "cell_type": "markdown",
      "metadata": {
        "id": "LYacqsiq-iI2",
        "colab_type": "text"
      },
      "source": [
        ""
      ]
    },
    {
      "cell_type": "markdown",
      "metadata": {
        "id": "Z7zZnBm1KoiL",
        "colab_type": "text"
      },
      "source": [
        "LIST COMPREHENSION"
      ]
    },
    {
      "cell_type": "code",
      "metadata": {
        "id": "ZjvYXJUAK4HY",
        "colab_type": "code",
        "colab": {
          "base_uri": "https://localhost:8080/",
          "height": 34
        },
        "outputId": "1b98df6c-599c-4ff0-e939-3f04837e8cb4"
      },
      "source": [
        "M=[x for x in range(10)]\n",
        "print(M)"
      ],
      "execution_count": null,
      "outputs": [
        {
          "output_type": "stream",
          "text": [
            "[0, 1, 2, 3, 4, 5, 6, 7, 8, 9]\n"
          ],
          "name": "stdout"
        }
      ]
    },
    {
      "cell_type": "code",
      "metadata": {
        "id": "F3sKbyeVL7Vm",
        "colab_type": "code",
        "colab": {
          "base_uri": "https://localhost:8080/",
          "height": 34
        },
        "outputId": "9d88cea4-b0e6-4f8d-d3fa-e4d50c7270f1"
      },
      "source": [
        "M=[x for x in range(1,10)]\n",
        "print(M)"
      ],
      "execution_count": null,
      "outputs": [
        {
          "output_type": "stream",
          "text": [
            "[1, 2, 3, 4, 5, 6, 7, 8, 9]\n"
          ],
          "name": "stdout"
        }
      ]
    },
    {
      "cell_type": "code",
      "metadata": {
        "id": "LVW5YkJaMO8B",
        "colab_type": "code",
        "colab": {
          "base_uri": "https://localhost:8080/",
          "height": 34
        },
        "outputId": "cffee5f9-8880-47b0-b01b-5d7f4c260002"
      },
      "source": [
        "M=[x for x in range(5,10,2) ] #(start, stop, step)\n",
        "print(M)"
      ],
      "execution_count": null,
      "outputs": [
        {
          "output_type": "stream",
          "text": [
            "[5, 7, 9]\n"
          ],
          "name": "stdout"
        }
      ]
    },
    {
      "cell_type": "code",
      "metadata": {
        "id": "e61eYuipM0p3",
        "colab_type": "code",
        "colab": {
          "base_uri": "https://localhost:8080/",
          "height": 54
        },
        "outputId": "65dc3fe0-7bb7-4369-d16e-87abe2435439"
      },
      "source": [
        "N=[r for r in range(100)]\n",
        "print(N)"
      ],
      "execution_count": null,
      "outputs": [
        {
          "output_type": "stream",
          "text": [
            "[0, 1, 2, 3, 4, 5, 6, 7, 8, 9, 10, 11, 12, 13, 14, 15, 16, 17, 18, 19, 20, 21, 22, 23, 24, 25, 26, 27, 28, 29, 30, 31, 32, 33, 34, 35, 36, 37, 38, 39, 40, 41, 42, 43, 44, 45, 46, 47, 48, 49, 50, 51, 52, 53, 54, 55, 56, 57, 58, 59, 60, 61, 62, 63, 64, 65, 66, 67, 68, 69, 70, 71, 72, 73, 74, 75, 76, 77, 78, 79, 80, 81, 82, 83, 84, 85, 86, 87, 88, 89, 90, 91, 92, 93, 94, 95, 96, 97, 98, 99]\n"
          ],
          "name": "stdout"
        }
      ]
    },
    {
      "cell_type": "code",
      "metadata": {
        "id": "__04fYzTNBtE",
        "colab_type": "code",
        "colab": {
          "base_uri": "https://localhost:8080/",
          "height": 34
        },
        "outputId": "6c74e240-9a83-4afa-81aa-f71d585895c0"
      },
      "source": [
        "N=[r for r in range(20,100,10)]\n",
        "print(N)"
      ],
      "execution_count": null,
      "outputs": [
        {
          "output_type": "stream",
          "text": [
            "[20, 30, 40, 50, 60, 70, 80, 90]\n"
          ],
          "name": "stdout"
        }
      ]
    },
    {
      "cell_type": "code",
      "metadata": {
        "id": "gIIikMVpNSPy",
        "colab_type": "code",
        "colab": {
          "base_uri": "https://localhost:8080/",
          "height": 34
        },
        "outputId": "e52b0f87-ad48-4a1e-ec0c-32157cd6f50b"
      },
      "source": [
        "R=[i for i in range(31) if i%3==0] \n",
        "print(R)"
      ],
      "execution_count": null,
      "outputs": [
        {
          "output_type": "stream",
          "text": [
            "[0, 3, 6, 9, 12, 15, 18, 21, 24, 27, 30]\n"
          ],
          "name": "stdout"
        }
      ]
    },
    {
      "cell_type": "code",
      "metadata": {
        "id": "cc7JJ0kNNzs2",
        "colab_type": "code",
        "colab": {
          "base_uri": "https://localhost:8080/",
          "height": 34
        },
        "outputId": "f4dbed49-e41c-4864-9254-e5dcc75aec89"
      },
      "source": [
        "R=[i for i in range(10,101,5) if i%5==0]\n",
        "print(R)"
      ],
      "execution_count": null,
      "outputs": [
        {
          "output_type": "stream",
          "text": [
            "[10, 15, 20, 25, 30, 35, 40, 45, 50, 55, 60, 65, 70, 75, 80, 85, 90, 95, 100]\n"
          ],
          "name": "stdout"
        }
      ]
    },
    {
      "cell_type": "code",
      "metadata": {
        "id": "tx1wwt79OL45",
        "colab_type": "code",
        "colab": {
          "base_uri": "https://localhost:8080/",
          "height": 34
        },
        "outputId": "1b0a7a73-2abd-4c20-ac98-b965baa0b5d6"
      },
      "source": [
        "import random\n",
        "P=[random.randint(0,100) for k in range(10)]\n",
        "print(P)"
      ],
      "execution_count": null,
      "outputs": [
        {
          "output_type": "stream",
          "text": [
            "[34, 96, 36, 62, 37, 7, 46, 62, 23, 77]\n"
          ],
          "name": "stdout"
        }
      ]
    },
    {
      "cell_type": "code",
      "metadata": {
        "id": "84_epYEdOmB7",
        "colab_type": "code",
        "colab": {
          "base_uri": "https://localhost:8080/",
          "height": 34
        },
        "outputId": "479cccd1-47d0-4bf6-8db4-a364bc1467c3"
      },
      "source": [
        "import random\n",
        "import collections as cl\n",
        "P=[random.randint(0,200) for k in range(10)]\n",
        "print(P) "
      ],
      "execution_count": null,
      "outputs": [
        {
          "output_type": "stream",
          "text": [
            "[54, 92, 154, 199, 18, 2, 138, 124, 169, 27]\n"
          ],
          "name": "stdout"
        }
      ]
    },
    {
      "cell_type": "code",
      "metadata": {
        "id": "n_LtvBT5MUfQ",
        "colab_type": "code",
        "colab": {
          "base_uri": "https://localhost:8080/",
          "height": 34
        },
        "outputId": "d8be1cc1-5d63-43be-bd92-88dd261a6433"
      },
      "source": [
        "C=cl.Counter(P)\n",
        "print(C)"
      ],
      "execution_count": null,
      "outputs": [
        {
          "output_type": "stream",
          "text": [
            "Counter({54: 1, 92: 1, 154: 1, 199: 1, 18: 1, 2: 1, 138: 1, 124: 1, 169: 1, 27: 1})\n"
          ],
          "name": "stdout"
        }
      ]
    },
    {
      "cell_type": "markdown",
      "metadata": {
        "id": "r266zTk1I-2k",
        "colab_type": "text"
      },
      "source": [
        " "
      ]
    },
    {
      "cell_type": "markdown",
      "metadata": {
        "id": "zC2APQWuhyIg",
        "colab_type": "text"
      },
      "source": [
        "# **FOR LLOP and WHILE LLOP**"
      ]
    },
    {
      "cell_type": "code",
      "metadata": {
        "id": "ksdk8C92iJnH",
        "colab_type": "code",
        "colab": {
          "base_uri": "https://localhost:8080/",
          "height": 34
        },
        "outputId": "4a3dcd5c-e97f-4919-dc8b-d0d441aa4cee"
      },
      "source": [
        "M =[]\n",
        "for k in range(20):\n",
        "     M.append(k)\n",
        "print(M)     \n"
      ],
      "execution_count": null,
      "outputs": [
        {
          "output_type": "stream",
          "text": [
            "[0, 1, 2, 3, 4, 5, 6, 7, 8, 9, 10, 11, 12, 13, 14, 15, 16, 17, 18, 19]\n"
          ],
          "name": "stdout"
        }
      ]
    },
    {
      "cell_type": "code",
      "metadata": {
        "id": "4QukXxBynQir",
        "colab_type": "code",
        "colab": {}
      },
      "source": [
        "L=[1,2,3,4,5,6,7,8,9]\n",
        "for k in range(10,20):\n",
        "    L.append(2*k+1)"
      ],
      "execution_count": null,
      "outputs": []
    },
    {
      "cell_type": "markdown",
      "metadata": {
        "id": "tZvpgQepU49W",
        "colab_type": "text"
      },
      "source": [
        "# **#ADDITION OF LIST**"
      ]
    },
    {
      "cell_type": "code",
      "metadata": {
        "id": "xUwlClHzVHTU",
        "colab_type": "code",
        "colab": {
          "base_uri": "https://localhost:8080/",
          "height": 51
        },
        "outputId": "dfe790c7-cbfe-4984-a47e-ee14bf35a797"
      },
      "source": [
        "M= ['apple','true',True,'false',False,1,1,1,4,6j]\n",
        "M[1]\n",
        "print('its type is',type(M[1]))\n",
        "M[2],type(M[2])\n",
        "M[6],type(M[6])"
      ],
      "execution_count": null,
      "outputs": [
        {
          "output_type": "stream",
          "text": [
            "its type is <class 'str'>\n"
          ],
          "name": "stdout"
        },
        {
          "output_type": "execute_result",
          "data": {
            "text/plain": [
              "(1, int)"
            ]
          },
          "metadata": {
            "tags": []
          },
          "execution_count": 5
        }
      ]
    },
    {
      "cell_type": "code",
      "metadata": {
        "id": "vYs5rrz9XsRr",
        "colab_type": "code",
        "colab": {
          "base_uri": "https://localhost:8080/",
          "height": 35
        },
        "outputId": "a768510d-00ad-4803-97fa-ec1a5b32dcc2"
      },
      "source": [
        "M=['apple','true',True,'false',False,1.0,100,4,'year']\n",
        "M[8]"
      ],
      "execution_count": null,
      "outputs": [
        {
          "output_type": "execute_result",
          "data": {
            "application/vnd.google.colaboratory.intrinsic+json": {
              "type": "string"
            },
            "text/plain": [
              "'year'"
            ]
          },
          "metadata": {
            "tags": []
          },
          "execution_count": 22
        }
      ]
    },
    {
      "cell_type": "code",
      "metadata": {
        "id": "jRCn95pybX7T",
        "colab_type": "code",
        "colab": {
          "base_uri": "https://localhost:8080/",
          "height": 102
        },
        "outputId": "23c29902-6a66-4977-ff9d-833c0feab3d0"
      },
      "source": [
        "L=['apple','banana','kite','cellphone','pen']\n",
        "for it in L:\n",
        "        print(it)"
      ],
      "execution_count": null,
      "outputs": [
        {
          "output_type": "stream",
          "text": [
            "apple\n",
            "banana\n",
            "kite\n",
            "cellphone\n",
            "pen\n"
          ],
          "name": "stdout"
        }
      ]
    },
    {
      "cell_type": "code",
      "metadata": {
        "id": "NOEpRKqLcz2p",
        "colab_type": "code",
        "colab": {
          "base_uri": "https://localhost:8080/",
          "height": 35
        },
        "outputId": "652e53ee-d074-409d-8761-ace4218149ad"
      },
      "source": [
        "L=[[1,2,3],[3,4,5,6,7,8,9],['ram','hari','sita','gita'],['nepali','english']]\n",
        "L[0][1]\n",
        "L[2][3]"
      ],
      "execution_count": null,
      "outputs": [
        {
          "output_type": "execute_result",
          "data": {
            "application/vnd.google.colaboratory.intrinsic+json": {
              "type": "string"
            },
            "text/plain": [
              "'gita'"
            ]
          },
          "metadata": {
            "tags": []
          },
          "execution_count": 30
        }
      ]
    },
    {
      "cell_type": "code",
      "metadata": {
        "id": "eTU0HVbQdmnH",
        "colab_type": "code",
        "colab": {
          "base_uri": "https://localhost:8080/",
          "height": 34
        },
        "outputId": "eb4a109d-b852-4971-cfd7-5e27dd08baa3"
      },
      "source": [
        "A={1:'Ram',2:'Shyam',3:'Hari',4:'Chatur',5:'Joh',6:'Sita'}\n",
        "print(A)"
      ],
      "execution_count": null,
      "outputs": [
        {
          "output_type": "stream",
          "text": [
            "{1: 'Ram', 2: 'Shyam', 3: 'Hari', 4: 'Chatur', 5: 'Joh', 6: 'Sita'}\n"
          ],
          "name": "stdout"
        }
      ]
    },
    {
      "cell_type": "code",
      "metadata": {
        "id": "9nWH8xGcgOKg",
        "colab_type": "code",
        "colab": {
          "base_uri": "https://localhost:8080/",
          "height": 34
        },
        "outputId": "4766131f-a410-4e77-d4f6-7869ed307b94"
      },
      "source": [
        "R=[1,2,3,4,5,6,7,8,9]\n",
        "K=[10,20,30,40,50,60,70]\n",
        "D=dict(zip(R,K))\n",
        "print(D)"
      ],
      "execution_count": null,
      "outputs": [
        {
          "output_type": "stream",
          "text": [
            "{1: 10, 2: 20, 3: 30, 4: 40, 5: 50, 6: 60, 7: 70}\n"
          ],
          "name": "stdout"
        }
      ]
    },
    {
      "cell_type": "code",
      "metadata": {
        "id": "4OHHEW0lh-ID",
        "colab_type": "code",
        "colab": {
          "base_uri": "https://localhost:8080/",
          "height": 34
        },
        "outputId": "cb5880f3-cc35-4458-9663-855a0e9dcd2e"
      },
      "source": [
        "D= (1,2,3,4,5,6,7,8,9)\n",
        "T= [1,2,3,4,5,6,7,8,9]\n",
        "L= {1:'2',2:'3',3:'4',4:'5'}\n",
        "print(type(T))"
      ],
      "execution_count": null,
      "outputs": [
        {
          "output_type": "stream",
          "text": [
            "<class 'list'>\n"
          ],
          "name": "stdout"
        }
      ]
    },
    {
      "cell_type": "code",
      "metadata": {
        "id": "gakYd_drjejQ",
        "colab_type": "code",
        "colab": {
          "base_uri": "https://localhost:8080/",
          "height": 34
        },
        "outputId": "9c0e0510-aa3b-4d33-e01e-946e74d8a025"
      },
      "source": [
        "L=[1,2,3,4,5]\n",
        "M=[3,4,5,6,7,8]\n",
        "L+M\n",
        "print(L+M)"
      ],
      "execution_count": null,
      "outputs": [
        {
          "output_type": "stream",
          "text": [
            "[1, 2, 3, 4, 5, 3, 4, 5, 6, 7, 8]\n"
          ],
          "name": "stdout"
        }
      ]
    },
    {
      "cell_type": "code",
      "metadata": {
        "id": "e_g2o22Tj56q",
        "colab_type": "code",
        "colab": {
          "base_uri": "https://localhost:8080/",
          "height": 34
        },
        "outputId": "b78da99b-0823-4b2f-c5ef-895d53500e73"
      },
      "source": [
        "L=[1,2,3,4,5]\n",
        "M=[3,4,5,6,7,8]\n",
        "M+L\n",
        "print(M+L)"
      ],
      "execution_count": null,
      "outputs": [
        {
          "output_type": "stream",
          "text": [
            "[3, 4, 5, 6, 7, 8, 1, 2, 3, 4, 5]\n"
          ],
          "name": "stdout"
        }
      ]
    },
    {
      "cell_type": "code",
      "metadata": {
        "id": "mVFE6pEnkdon",
        "colab_type": "code",
        "colab": {
          "base_uri": "https://localhost:8080/",
          "height": 54
        },
        "outputId": "0aba79b4-c93b-4bae-ef5b-69c605b70269"
      },
      "source": [
        "D = {} #empty dictionary or set\n",
        "for i in range(5):\n",
        "    for j in range(5):\n",
        "        if i == j :\n",
        "            D.update({(i,j) : 10*i+j})\n",
        "        elif i!= j:\n",
        "            D.update({(i,j) : 100*i+j})\n",
        "\n",
        "print(D)"
      ],
      "execution_count": null,
      "outputs": [
        {
          "output_type": "stream",
          "text": [
            "{(0, 0): 0, (0, 1): 1, (0, 2): 2, (0, 3): 3, (0, 4): 4, (1, 0): 100, (1, 1): 11, (1, 2): 102, (1, 3): 103, (1, 4): 104, (2, 0): 200, (2, 1): 201, (2, 2): 22, (2, 3): 203, (2, 4): 204, (3, 0): 300, (3, 1): 301, (3, 2): 302, (3, 3): 33, (3, 4): 304, (4, 0): 400, (4, 1): 401, (4, 2): 402, (4, 3): 403, (4, 4): 44}\n"
          ],
          "name": "stdout"
        }
      ]
    },
    {
      "cell_type": "code",
      "metadata": {
        "id": "HvS06NXJnaeL",
        "colab_type": "code",
        "colab": {
          "base_uri": "https://localhost:8080/",
          "height": 34
        },
        "outputId": "2dd72392-7f78-4e1a-d3ac-7a24297a891c"
      },
      "source": [
        "A = [10*k**2+5*k+1 for k in range(10)]\n",
        "print(A)"
      ],
      "execution_count": null,
      "outputs": [
        {
          "output_type": "stream",
          "text": [
            "[1, 16, 51, 106, 181, 276, 391, 526, 681, 856]\n"
          ],
          "name": "stdout"
        }
      ]
    },
    {
      "cell_type": "code",
      "metadata": {
        "id": "i0vqqjbToJtY",
        "colab_type": "code",
        "colab": {
          "base_uri": "https://localhost:8080/",
          "height": 34
        },
        "outputId": "178e885e-4a4d-428b-871c-767fe7f3ca85"
      },
      "source": [
        "AA = [[10*x**2+5*y+1 for x in range(3)] for y in range(3)]\n",
        "print(AA)"
      ],
      "execution_count": null,
      "outputs": [
        {
          "output_type": "stream",
          "text": [
            "[[1, 11, 41], [6, 16, 46], [11, 21, 51]]\n"
          ],
          "name": "stdout"
        }
      ]
    },
    {
      "cell_type": "markdown",
      "metadata": {
        "id": "WNS8ciTVwuzc",
        "colab_type": "text"
      },
      "source": [
        "# **FUNCTION,LIST,PLOT**"
      ]
    },
    {
      "cell_type": "markdown",
      "metadata": {
        "id": "H4WkZDooq_9a",
        "colab_type": "text"
      },
      "source": [
        ""
      ]
    },
    {
      "cell_type": "markdown",
      "metadata": {
        "id": "YiPToOVHxEDm",
        "colab_type": "text"
      },
      "source": [
        "# Function\n",
        "# Function using list\n",
        "# Plot using Matplotib"
      ]
    },
    {
      "cell_type": "markdown",
      "metadata": {
        "id": "GQis9jFEsI4x",
        "colab_type": "text"
      },
      "source": [
        "simple function\n",
        "      y= mx+c"
      ]
    },
    {
      "cell_type": "code",
      "metadata": {
        "id": "pw5q6-wYsbDk",
        "colab_type": "code",
        "colab": {}
      },
      "source": [
        "def func(x,m,c):\n",
        "    return m*x+c"
      ],
      "execution_count": null,
      "outputs": []
    },
    {
      "cell_type": "code",
      "metadata": {
        "id": "CN6-ZyoIszdb",
        "colab_type": "code",
        "colab": {
          "base_uri": "https://localhost:8080/",
          "height": 34
        },
        "outputId": "ed668133-837a-4910-f536-a59350d696f4"
      },
      "source": [
        "func(10,2,-3)"
      ],
      "execution_count": null,
      "outputs": [
        {
          "output_type": "execute_result",
          "data": {
            "text/plain": [
              "17"
            ]
          },
          "metadata": {
            "tags": []
          },
          "execution_count": 2
        }
      ]
    },
    {
      "cell_type": "code",
      "metadata": {
        "id": "ADV1cdpYs9Qq",
        "colab_type": "code",
        "colab": {
          "base_uri": "https://localhost:8080/",
          "height": 34
        },
        "outputId": "55979b7b-4fde-4790-a541-f0af710fef47"
      },
      "source": [
        "func(20,0.7,5)"
      ],
      "execution_count": null,
      "outputs": [
        {
          "output_type": "execute_result",
          "data": {
            "text/plain": [
              "19.0"
            ]
          },
          "metadata": {
            "tags": []
          },
          "execution_count": 3
        }
      ]
    },
    {
      "cell_type": "code",
      "metadata": {
        "id": "2V6XUzyLtD9b",
        "colab_type": "code",
        "colab": {
          "base_uri": "https://localhost:8080/",
          "height": 34
        },
        "outputId": "8af7b847-7494-49e0-d3b9-2039e9bfd866"
      },
      "source": [
        "def func(x):\n",
        "    m=3\n",
        "    c=-4\n",
        "    return m*x+c \n",
        "func(10)\n",
        "\n"
      ],
      "execution_count": null,
      "outputs": [
        {
          "output_type": "execute_result",
          "data": {
            "text/plain": [
              "26"
            ]
          },
          "metadata": {
            "tags": []
          },
          "execution_count": 8
        }
      ]
    },
    {
      "cell_type": "code",
      "metadata": {
        "id": "DfBxi7f9t0Dy",
        "colab_type": "code",
        "colab": {
          "base_uri": "https://localhost:8080/",
          "height": 34
        },
        "outputId": "b4ec2fd1-54ba-405d-8e0d-d12ac2b78539"
      },
      "source": [
        "func(20)"
      ],
      "execution_count": null,
      "outputs": [
        {
          "output_type": "execute_result",
          "data": {
            "text/plain": [
              "56"
            ]
          },
          "metadata": {
            "tags": []
          },
          "execution_count": 9
        }
      ]
    },
    {
      "cell_type": "markdown",
      "metadata": {
        "id": "gG7ovYIxvdsc",
        "colab_type": "text"
      },
      "source": [
        "### y=a*x^2 + b*x + c"
      ]
    },
    {
      "cell_type": "code",
      "metadata": {
        "id": "97UUl1Tgvlsu",
        "colab_type": "code",
        "colab": {}
      },
      "source": [
        "def quad(x):\n",
        "  a=2\n",
        "  b=-4\n",
        "  c=10\n",
        "  y=a*x**2 + b*x + c\n",
        "  return(y)"
      ],
      "execution_count": null,
      "outputs": []
    },
    {
      "cell_type": "code",
      "metadata": {
        "id": "pdTYyDKXwVPd",
        "colab_type": "code",
        "colab": {
          "base_uri": "https://localhost:8080/",
          "height": 54
        },
        "outputId": "a735787f-9bb4-475a-b97b-7f2bcb95de9d"
      },
      "source": [
        "X= [] #empty list\n",
        "Y= []\n",
        "for x in range(100):\n",
        "    X.append(x)\n",
        "    y1 = quad(x)\n",
        "    Y.append(y1)\n",
        "print(Y)\n"
      ],
      "execution_count": null,
      "outputs": [
        {
          "output_type": "stream",
          "text": [
            "[10, 8, 10, 16, 26, 40, 58, 80, 106, 136, 170, 208, 250, 296, 346, 400, 458, 520, 586, 656, 730, 808, 890, 976, 1066, 1160, 1258, 1360, 1466, 1576, 1690, 1808, 1930, 2056, 2186, 2320, 2458, 2600, 2746, 2896, 3050, 3208, 3370, 3536, 3706, 3880, 4058, 4240, 4426, 4616, 4810, 5008, 5210, 5416, 5626, 5840, 6058, 6280, 6506, 6736, 6970, 7208, 7450, 7696, 7946, 8200, 8458, 8720, 8986, 9256, 9530, 9808, 10090, 10376, 10666, 10960, 11258, 11560, 11866, 12176, 12490, 12808, 13130, 13456, 13786, 14120, 14458, 14800, 15146, 15496, 15850, 16208, 16570, 16936, 17306, 17680, 18058, 18440, 18826, 19216]\n"
          ],
          "name": "stdout"
        }
      ]
    },
    {
      "cell_type": "code",
      "metadata": {
        "id": "RCxsbkjax7kc",
        "colab_type": "code",
        "colab": {
          "base_uri": "https://localhost:8080/",
          "height": 54
        },
        "outputId": "935c2e67-668e-4e5b-f8cd-ba22deda17c6"
      },
      "source": [
        "print(X)"
      ],
      "execution_count": null,
      "outputs": [
        {
          "output_type": "stream",
          "text": [
            "[0, 1, 2, 3, 4, 5, 6, 7, 8, 9, 10, 11, 12, 13, 14, 15, 16, 17, 18, 19, 20, 21, 22, 23, 24, 25, 26, 27, 28, 29, 30, 31, 32, 33, 34, 35, 36, 37, 38, 39, 40, 41, 42, 43, 44, 45, 46, 47, 48, 49, 50, 51, 52, 53, 54, 55, 56, 57, 58, 59, 60, 61, 62, 63, 64, 65, 66, 67, 68, 69, 70, 71, 72, 73, 74, 75, 76, 77, 78, 79, 80, 81, 82, 83, 84, 85, 86, 87, 88, 89, 90, 91, 92, 93, 94, 95, 96, 97, 98, 99]\n"
          ],
          "name": "stdout"
        }
      ]
    },
    {
      "cell_type": "code",
      "metadata": {
        "id": "DJboGvt620Mh",
        "colab_type": "code",
        "colab": {
          "base_uri": "https://localhost:8080/",
          "height": 54
        },
        "outputId": "b56bfae7-08b6-4859-a470-47e7829f616c"
      },
      "source": [
        "print(Y)"
      ],
      "execution_count": null,
      "outputs": [
        {
          "output_type": "stream",
          "text": [
            "[10, 8, 10, 16, 26, 40, 58, 80, 106, 136, 170, 208, 250, 296, 346, 400, 458, 520, 586, 656, 730, 808, 890, 976, 1066, 1160, 1258, 1360, 1466, 1576, 1690, 1808, 1930, 2056, 2186, 2320, 2458, 2600, 2746, 2896, 3050, 3208, 3370, 3536, 3706, 3880, 4058, 4240, 4426, 4616, 4810, 5008, 5210, 5416, 5626, 5840, 6058, 6280, 6506, 6736, 6970, 7208, 7450, 7696, 7946, 8200, 8458, 8720, 8986, 9256, 9530, 9808, 10090, 10376, 10666, 10960, 11258, 11560, 11866, 12176, 12490, 12808, 13130, 13456, 13786, 14120, 14458, 14800, 15146, 15496, 15850, 16208, 16570, 16936, 17306, 17680, 18058, 18440, 18826, 19216]\n"
          ],
          "name": "stdout"
        }
      ]
    },
    {
      "cell_type": "code",
      "metadata": {
        "id": "EnSvus6G3Ha6",
        "colab_type": "code",
        "colab": {
          "base_uri": "https://localhost:8080/",
          "height": 54
        },
        "outputId": "4ace1c88-0e88-4288-b7b8-70aff7ecb6af"
      },
      "source": [
        "print(X,Y)"
      ],
      "execution_count": null,
      "outputs": [
        {
          "output_type": "stream",
          "text": [
            "[0, 1, 2, 3, 4, 5, 6, 7, 8, 9, 10, 11, 12, 13, 14, 15, 16, 17, 18, 19, 20, 21, 22, 23, 24, 25, 26, 27, 28, 29, 30, 31, 32, 33, 34, 35, 36, 37, 38, 39, 40, 41, 42, 43, 44, 45, 46, 47, 48, 49, 50, 51, 52, 53, 54, 55, 56, 57, 58, 59, 60, 61, 62, 63, 64, 65, 66, 67, 68, 69, 70, 71, 72, 73, 74, 75, 76, 77, 78, 79, 80, 81, 82, 83, 84, 85, 86, 87, 88, 89, 90, 91, 92, 93, 94, 95, 96, 97, 98, 99] [10, 8, 10, 16, 26, 40, 58, 80, 106, 136, 170, 208, 250, 296, 346, 400, 458, 520, 586, 656, 730, 808, 890, 976, 1066, 1160, 1258, 1360, 1466, 1576, 1690, 1808, 1930, 2056, 2186, 2320, 2458, 2600, 2746, 2896, 3050, 3208, 3370, 3536, 3706, 3880, 4058, 4240, 4426, 4616, 4810, 5008, 5210, 5416, 5626, 5840, 6058, 6280, 6506, 6736, 6970, 7208, 7450, 7696, 7946, 8200, 8458, 8720, 8986, 9256, 9530, 9808, 10090, 10376, 10666, 10960, 11258, 11560, 11866, 12176, 12490, 12808, 13130, 13456, 13786, 14120, 14458, 14800, 15146, 15496, 15850, 16208, 16570, 16936, 17306, 17680, 18058, 18440, 18826, 19216]\n"
          ],
          "name": "stdout"
        }
      ]
    },
    {
      "cell_type": "code",
      "metadata": {
        "id": "0L0innw53Mqq",
        "colab_type": "code",
        "colab": {}
      },
      "source": [
        "import matplotlib.pyplot as plt #plt is arbitary\n",
        "%matplotlib inline"
      ],
      "execution_count": null,
      "outputs": []
    },
    {
      "cell_type": "code",
      "metadata": {
        "id": "1Zav6eBO4LO1",
        "colab_type": "code",
        "colab": {
          "base_uri": "https://localhost:8080/",
          "height": 285
        },
        "outputId": "d81abc87-f2bb-4a3c-fe5c-61b42ffc7ec7"
      },
      "source": [
        "plt.plot(X,Y)"
      ],
      "execution_count": null,
      "outputs": [
        {
          "output_type": "execute_result",
          "data": {
            "text/plain": [
              "[<matplotlib.lines.Line2D at 0x7f0fdabbe9b0>]"
            ]
          },
          "metadata": {
            "tags": []
          },
          "execution_count": 28
        },
        {
          "output_type": "display_data",
          "data": {
            "image/png": "[encoded data removed]",
            "text/plain": [
              "<Figure size 432x288 with 1 Axes>"
            ]
          },
          "metadata": {
            "tags": [],
            "needs_background": "light"
          }
        }
      ]
    },
    {
      "cell_type": "markdown",
      "metadata": {
        "id": "LyaqOEe04oW1",
        "colab_type": "text"
      },
      "source": [
        ""
      ]
    },
    {
      "cell_type": "markdown",
      "metadata": {
        "id": "9KCoEl--4r9k",
        "colab_type": "text"
      },
      "source": [
        "also try by putting range(10) above"
      ]
    },
    {
      "cell_type": "code",
      "metadata": {
        "id": "S7aku3h2493c",
        "colab_type": "code",
        "colab": {
          "base_uri": "https://localhost:8080/",
          "height": 285
        },
        "outputId": "5e4251e0-1b47-431b-add3-7caff96a388c"
      },
      "source": [
        "plt.plot(X,Y,marker ='.')"
      ],
      "execution_count": null,
      "outputs": [
        {
          "output_type": "execute_result",
          "data": {
            "text/plain": [
              "[<matplotlib.lines.Line2D at 0x7f0fda71b908>]"
            ]
          },
          "metadata": {
            "tags": []
          },
          "execution_count": 32
        },
        {
          "output_type": "display_data",
          "data": {
            "image/png": "[encoded data removed]",
            "text/plain": [
              "<Figure size 432x288 with 1 Axes>"
            ]
          },
          "metadata": {
            "tags": [],
            "needs_background": "light"
          }
        }
      ]
    },
    {
      "cell_type": "code",
      "metadata": {
        "id": "N2FcR4wL5mdl",
        "colab_type": "code",
        "colab": {
          "base_uri": "https://localhost:8080/",
          "height": 299
        },
        "outputId": "a8ac66e1-6619-4987-d1b1-c62a659537e8"
      },
      "source": [
        "plt.plot(X,Y,'-.','red')"
      ],
      "execution_count": null,
      "outputs": [
        {
          "output_type": "execute_result",
          "data": {
            "text/plain": [
              "[<matplotlib.lines.Line2D at 0x7f0fda689748>,\n",
              " <matplotlib.lines.Line2D at 0x7f0fdabad4a8>]"
            ]
          },
          "metadata": {
            "tags": []
          },
          "execution_count": 33
        },
        {
          "output_type": "display_data",
          "data": {
            "image/png": "[encoded data removed]",
            "text/plain": [
              "<Figure size 432x288 with 1 Axes>"
            ]
          },
          "metadata": {
            "tags": [],
            "needs_background": "light"
          }
        }
      ]
    },
    {
      "cell_type": "code",
      "metadata": {
        "id": "qcJ1cFID6TMY",
        "colab_type": "code",
        "colab": {
          "base_uri": "https://localhost:8080/",
          "height": 285
        },
        "outputId": "2bd67691-dfe0-4fd3-a972-8294c5e5c73e"
      },
      "source": [
        "plt.plot(X,Y,color= 'r',lw = 3)"
      ],
      "execution_count": null,
      "outputs": [
        {
          "output_type": "execute_result",
          "data": {
            "text/plain": [
              "[<matplotlib.lines.Line2D at 0x7f0fda65d9e8>]"
            ]
          },
          "metadata": {
            "tags": []
          },
          "execution_count": 34
        },
        {
          "output_type": "display_data",
          "data": {
            "image/png": "[encoded data removed]",
            "text/plain": [
              "<Figure size 432x288 with 1 Axes>"
            ]
          },
          "metadata": {
            "tags": [],
            "needs_background": "light"
          }
        }
      ]
    },
    {
      "cell_type": "code",
      "metadata": {
        "id": "LiG600qJ7G1b",
        "colab_type": "code",
        "colab": {
          "base_uri": "https://localhost:8080/",
          "height": 309
        },
        "outputId": "552791c3-1ac8-435a-add0-8f7a320ae301"
      },
      "source": [
        "plt.xlabel('x',fontsize=20)"
      ],
      "execution_count": null,
      "outputs": [
        {
          "output_type": "execute_result",
          "data": {
            "text/plain": [
              "Text(0.5, 0, 'x')"
            ]
          },
          "metadata": {
            "tags": []
          },
          "execution_count": 36
        },
        {
          "output_type": "display_data",
          "data": {
            "image/png": "[encoded data removed]",
            "text/plain": [
              "<Figure size 432x288 with 1 Axes>"
            ]
          },
          "metadata": {
            "tags": [],
            "needs_background": "light"
          }
        }
      ]
    },
    {
      "cell_type": "code",
      "metadata": {
        "id": "NyFxhwgu7V3N",
        "colab_type": "code",
        "colab": {
          "base_uri": "https://localhost:8080/",
          "height": 286
        },
        "outputId": "480091ff-0494-4175-b649-2bfb9e107079"
      },
      "source": [
        "plt.ylabel('y',fontsize=20)"
      ],
      "execution_count": null,
      "outputs": [
        {
          "output_type": "execute_result",
          "data": {
            "text/plain": [
              "Text(0, 0.5, 'y')"
            ]
          },
          "metadata": {
            "tags": []
          },
          "execution_count": 38
        },
        {
          "output_type": "display_data",
          "data": {
            "image/png": "[encoded data removed]",
            "text/plain": [
              "<Figure size 432x288 with 1 Axes>"
            ]
          },
          "metadata": {
            "tags": [],
            "needs_background": "light"
          }
        }
      ]
    },
    {
      "cell_type": "code",
      "metadata": {
        "id": "TqqzrZKw75T4",
        "colab_type": "code",
        "colab": {
          "base_uri": "https://localhost:8080/",
          "height": 303
        },
        "outputId": "070a5403-cc6a-404c-b937-b469c73c3563"
      },
      "source": [
        "plt.title('Quarditic function',fontsize=20)"
      ],
      "execution_count": null,
      "outputs": [
        {
          "output_type": "execute_result",
          "data": {
            "text/plain": [
              "Text(0.5, 1.0, 'Quarditic function')"
            ]
          },
          "metadata": {
            "tags": []
          },
          "execution_count": 40
        },
        {
          "output_type": "display_data",
          "data": {
            "image/png": "[encoded data removed]",
            "text/plain": [
              "<Figure size 432x288 with 1 Axes>"
            ]
          },
          "metadata": {
            "tags": [],
            "needs_background": "light"
          }
        }
      ]
    },
    {
      "cell_type": "code",
      "metadata": {
        "id": "x8R_iqqj8PMw",
        "colab_type": "code",
        "colab": {
          "base_uri": "https://localhost:8080/",
          "height": 34
        },
        "outputId": "0ae33244-19e6-4bd4-fa88-9afaf18de12c"
      },
      "source": [
        "plt.savefig('quqd.jpg')"
      ],
      "execution_count": null,
      "outputs": [
        {
          "output_type": "display_data",
          "data": {
            "text/plain": [
              "<Figure size 432x288 with 0 Axes>"
            ]
          },
          "metadata": {
            "tags": []
          }
        }
      ]
    },
    {
      "cell_type": "markdown",
      "metadata": {
        "id": "WaGtZz_H8rXG",
        "colab_type": "text"
      },
      "source": [
        "# **Plot sine,cosine,tan,linear and quarditic plot**\n"
      ]
    },
    {
      "cell_type": "code",
      "metadata": {
        "id": "c6INEVsn-UZJ",
        "colab_type": "code",
        "colab": {}
      },
      "source": [
        "import numpy as np #np is arbitary\n",
        "X=[] #empty list to collect x values\n",
        "S=[] #empty list to collect sinx values\n",
        "C=[] #empty list to collect cosx values\n",
        "T=[] #empty list to collect tanx values\n",
        "L=[] #empty list to collect linear function values\n",
        "Q=[] #empty list to collect quarditic function values\n",
        "for x in range(100):\n",
        "    X.append(x)\n",
        "    ss = np.sin(x)\n",
        "    cc = np.cos(x)\n",
        "    tt = np.tan(x)\n",
        "    ll = 5*x - 6\n",
        "    qq = 2*x**2 - 4*x + 10\n",
        "    S.append(ss)\n",
        "    C.append(cc)\n",
        "    T.append(tt)\n",
        "    L.append(ll)\n",
        "    Q.append(qq)\n",
        "\n",
        "\n",
        "\n"
      ],
      "execution_count": null,
      "outputs": []
    },
    {
      "cell_type": "code",
      "metadata": {
        "id": "2hHgPJIvBelS",
        "colab_type": "code",
        "colab": {}
      },
      "source": [
        "#print(X,S,C,T,L,Q)"
      ],
      "execution_count": null,
      "outputs": []
    },
    {
      "cell_type": "code",
      "metadata": {
        "id": "Y_DGQrxZIaqx",
        "colab_type": "code",
        "colab": {
          "base_uri": "https://localhost:8080/",
          "height": 284
        },
        "outputId": "77dc8501-67b5-43b9-c6ef-f31c4a898e25"
      },
      "source": [
        "plt.plot(X,S)\n",
        "plt.plot(X,C)\n",
        "plt.plot(X,T)\n",
        "plt.plot(X,L)\n",
        "plt.plot(X,Q)"
      ],
      "execution_count": null,
      "outputs": [
        {
          "output_type": "execute_result",
          "data": {
            "text/plain": [
              "[<matplotlib.lines.Line2D at 0x7f0fda075f28>]"
            ]
          },
          "metadata": {
            "tags": []
          },
          "execution_count": 69
        },
        {
          "output_type": "display_data",
          "data": {
            "image/png": "[encoded data removed]",
            "text/plain": [
              "<Figure size 432x288 with 1 Axes>"
            ]
          },
          "metadata": {
            "tags": [],
            "needs_background": "light"
          }
        }
      ]
    },
    {
      "cell_type": "markdown",
      "metadata": {
        "id": "KcLJs82rLFIq",
        "colab_type": "text"
      },
      "source": [
        " also try by taking range(10) and range(1000) "
      ]
    },
    {
      "cell_type": "code",
      "metadata": {
        "id": "S42o3wztLoZN",
        "colab_type": "code",
        "colab": {
          "base_uri": "https://localhost:8080/",
          "height": 34
        },
        "outputId": "007c76e2-95c8-4e62-d48a-8f870dadf8e8"
      },
      "source": [
        "t = np.linspace(0,10,5)\n",
        "print(t)"
      ],
      "execution_count": null,
      "outputs": [
        {
          "output_type": "stream",
          "text": [
            "[ 0.   2.5  5.   7.5 10. ]\n"
          ],
          "name": "stdout"
        }
      ]
    },
    {
      "cell_type": "code",
      "metadata": {
        "id": "mPKwRsnkL8wx",
        "colab_type": "code",
        "colab": {
          "base_uri": "https://localhost:8080/",
          "height": 1000
        },
        "outputId": "ecbeed6a-b1c6-42d1-be4f-0938bbf9c7f6"
      },
      "source": [
        "t = np.linspace(0,10,1000)\n",
        "print(t)"
      ],
      "execution_count": null,
      "outputs": [
        {
          "output_type": "stream",
          "text": [
            "[ 0.          0.01001001  0.02002002  0.03003003  0.04004004  0.05005005\n",
            "  0.06006006  0.07007007  0.08008008  0.09009009  0.1001001   0.11011011\n",
            "  0.12012012  0.13013013  0.14014014  0.15015015  0.16016016  0.17017017\n",
            "  0.18018018  0.19019019  0.2002002   0.21021021  0.22022022  0.23023023\n",
            "  0.24024024  0.25025025  0.26026026  0.27027027  0.28028028  0.29029029\n",
            "  0.3003003   0.31031031  0.32032032  0.33033033  0.34034034  0.35035035\n",
            "  0.36036036  0.37037037  0.38038038  0.39039039  0.4004004   0.41041041\n",
            "  0.42042042  0.43043043  0.44044044  0.45045045  0.46046046  0.47047047\n",
            "  0.48048048  0.49049049  0.5005005   0.51051051  0.52052052  0.53053053\n",
            "  0.54054054  0.55055055  0.56056056  0.57057057  0.58058058  0.59059059\n",
            "  0.6006006   0.61061061  0.62062062  0.63063063  0.64064064  0.65065065\n",
            "  0.66066066  0.67067067  0.68068068  0.69069069  0.7007007   0.71071071\n",
            "  0.72072072  0.73073073  0.74074074  0.75075075  0.76076076  0.77077077\n",
            "  0.78078078  0.79079079  0.8008008   0.81081081  0.82082082  0.83083083\n",
            "  0.84084084  0.85085085  0.86086086  0.87087087  0.88088088  0.89089089\n",
            "  0.9009009   0.91091091  0.92092092  0.93093093  0.94094094  0.95095095\n",
            "  0.96096096  0.97097097  0.98098098  0.99099099  1.001001    1.01101101\n",
            "  1.02102102  1.03103103  1.04104104  1.05105105  1.06106106  1.07107107\n",
            "  1.08108108  1.09109109  1.1011011   1.11111111  1.12112112  1.13113113\n",
            "  1.14114114  1.15115115  1.16116116  1.17117117  1.18118118  1.19119119\n",
            "  1.2012012   1.21121121  1.22122122  1.23123123  1.24124124  1.25125125\n",
            "  1.26126126  1.27127127  1.28128128  1.29129129  1.3013013   1.31131131\n",
            "  1.32132132  1.33133133  1.34134134  1.35135135  1.36136136  1.37137137\n",
            "  1.38138138  1.39139139  1.4014014   1.41141141  1.42142142  1.43143143\n",
            "  1.44144144  1.45145145  1.46146146  1.47147147  1.48148148  1.49149149\n",
            "  1.5015015   1.51151151  1.52152152  1.53153153  1.54154154  1.55155155\n",
            "  1.56156156  1.57157157  1.58158158  1.59159159  1.6016016   1.61161161\n",
            "  1.62162162  1.63163163  1.64164164  1.65165165  1.66166166  1.67167167\n",
            "  1.68168168  1.69169169  1.7017017   1.71171171  1.72172172  1.73173173\n",
            "  1.74174174  1.75175175  1.76176176  1.77177177  1.78178178  1.79179179\n",
            "  1.8018018   1.81181181  1.82182182  1.83183183  1.84184184  1.85185185\n",
            "  1.86186186  1.87187187  1.88188188  1.89189189  1.9019019   1.91191191\n",
            "  1.92192192  1.93193193  1.94194194  1.95195195  1.96196196  1.97197197\n",
            "  1.98198198  1.99199199  2.002002    2.01201201  2.02202202  2.03203203\n",
            "  2.04204204  2.05205205  2.06206206  2.07207207  2.08208208  2.09209209\n",
            "  2.1021021   2.11211211  2.12212212  2.13213213  2.14214214  2.15215215\n",
            "  2.16216216  2.17217217  2.18218218  2.19219219  2.2022022   2.21221221\n",
            "  2.22222222  2.23223223  2.24224224  2.25225225  2.26226226  2.27227227\n",
            "  2.28228228  2.29229229  2.3023023   2.31231231  2.32232232  2.33233233\n",
            "  2.34234234  2.35235235  2.36236236  2.37237237  2.38238238  2.39239239\n",
            "  2.4024024   2.41241241  2.42242242  2.43243243  2.44244244  2.45245245\n",
            "  2.46246246  2.47247247  2.48248248  2.49249249  2.5025025   2.51251251\n",
            "  2.52252252  2.53253253  2.54254254  2.55255255  2.56256256  2.57257257\n",
            "  2.58258258  2.59259259  2.6026026   2.61261261  2.62262262  2.63263263\n",
            "  2.64264264  2.65265265  2.66266266  2.67267267  2.68268268  2.69269269\n",
            "  2.7027027   2.71271271  2.72272272  2.73273273  2.74274274  2.75275275\n",
            "  2.76276276  2.77277277  2.78278278  2.79279279  2.8028028   2.81281281\n",
            "  2.82282282  2.83283283  2.84284284  2.85285285  2.86286286  2.87287287\n",
            "  2.88288288  2.89289289  2.9029029   2.91291291  2.92292292  2.93293293\n",
            "  2.94294294  2.95295295  2.96296296  2.97297297  2.98298298  2.99299299\n",
            "  3.003003    3.01301301  3.02302302  3.03303303  3.04304304  3.05305305\n",
            "  3.06306306  3.07307307  3.08308308  3.09309309  3.1031031   3.11311311\n",
            "  3.12312312  3.13313313  3.14314314  3.15315315  3.16316316  3.17317317\n",
            "  3.18318318  3.19319319  3.2032032   3.21321321  3.22322322  3.23323323\n",
            "  3.24324324  3.25325325  3.26326326  3.27327327  3.28328328  3.29329329\n",
            "  3.3033033   3.31331331  3.32332332  3.33333333  3.34334334  3.35335335\n",
            "  3.36336336  3.37337337  3.38338338  3.39339339  3.4034034   3.41341341\n",
            "  3.42342342  3.43343343  3.44344344  3.45345345  3.46346346  3.47347347\n",
            "  3.48348348  3.49349349  3.5035035   3.51351351  3.52352352  3.53353353\n",
            "  3.54354354  3.55355355  3.56356356  3.57357357  3.58358358  3.59359359\n",
            "  3.6036036   3.61361361  3.62362362  3.63363363  3.64364364  3.65365365\n",
            "  3.66366366  3.67367367  3.68368368  3.69369369  3.7037037   3.71371371\n",
            "  3.72372372  3.73373373  3.74374374  3.75375375  3.76376376  3.77377377\n",
            "  3.78378378  3.79379379  3.8038038   3.81381381  3.82382382  3.83383383\n",
            "  3.84384384  3.85385385  3.86386386  3.87387387  3.88388388  3.89389389\n",
            "  3.9039039   3.91391391  3.92392392  3.93393393  3.94394394  3.95395395\n",
            "  3.96396396  3.97397397  3.98398398  3.99399399  4.004004    4.01401401\n",
            "  4.02402402  4.03403403  4.04404404  4.05405405  4.06406406  4.07407407\n",
            "  4.08408408  4.09409409  4.1041041   4.11411411  4.12412412  4.13413413\n",
            "  4.14414414  4.15415415  4.16416416  4.17417417  4.18418418  4.19419419\n",
            "  4.2042042   4.21421421  4.22422422  4.23423423  4.24424424  4.25425425\n",
            "  4.26426426  4.27427427  4.28428428  4.29429429  4.3043043   4.31431431\n",
            "  4.32432432  4.33433433  4.34434434  4.35435435  4.36436436  4.37437437\n",
            "  4.38438438  4.39439439  4.4044044   4.41441441  4.42442442  4.43443443\n",
            "  4.44444444  4.45445445  4.46446446  4.47447447  4.48448448  4.49449449\n",
            "  4.5045045   4.51451451  4.52452452  4.53453453  4.54454454  4.55455455\n",
            "  4.56456456  4.57457457  4.58458458  4.59459459  4.6046046   4.61461461\n",
            "  4.62462462  4.63463463  4.64464464  4.65465465  4.66466466  4.67467467\n",
            "  4.68468468  4.69469469  4.7047047   4.71471471  4.72472472  4.73473473\n",
            "  4.74474474  4.75475475  4.76476476  4.77477477  4.78478478  4.79479479\n",
            "  4.8048048   4.81481481  4.82482482  4.83483483  4.84484484  4.85485485\n",
            "  4.86486486  4.87487487  4.88488488  4.89489489  4.9049049   4.91491491\n",
            "  4.92492492  4.93493493  4.94494494  4.95495495  4.96496496  4.97497497\n",
            "  4.98498498  4.99499499  5.00500501  5.01501502  5.02502503  5.03503504\n",
            "  5.04504505  5.05505506  5.06506507  5.07507508  5.08508509  5.0950951\n",
            "  5.10510511  5.11511512  5.12512513  5.13513514  5.14514515  5.15515516\n",
            "  5.16516517  5.17517518  5.18518519  5.1951952   5.20520521  5.21521522\n",
            "  5.22522523  5.23523524  5.24524525  5.25525526  5.26526527  5.27527528\n",
            "  5.28528529  5.2952953   5.30530531  5.31531532  5.32532533  5.33533534\n",
            "  5.34534535  5.35535536  5.36536537  5.37537538  5.38538539  5.3953954\n",
            "  5.40540541  5.41541542  5.42542543  5.43543544  5.44544545  5.45545546\n",
            "  5.46546547  5.47547548  5.48548549  5.4954955   5.50550551  5.51551552\n",
            "  5.52552553  5.53553554  5.54554555  5.55555556  5.56556557  5.57557558\n",
            "  5.58558559  5.5955956   5.60560561  5.61561562  5.62562563  5.63563564\n",
            "  5.64564565  5.65565566  5.66566567  5.67567568  5.68568569  5.6956957\n",
            "  5.70570571  5.71571572  5.72572573  5.73573574  5.74574575  5.75575576\n",
            "  5.76576577  5.77577578  5.78578579  5.7957958   5.80580581  5.81581582\n",
            "  5.82582583  5.83583584  5.84584585  5.85585586  5.86586587  5.87587588\n",
            "  5.88588589  5.8958959   5.90590591  5.91591592  5.92592593  5.93593594\n",
            "  5.94594595  5.95595596  5.96596597  5.97597598  5.98598599  5.995996\n",
            "  6.00600601  6.01601602  6.02602603  6.03603604  6.04604605  6.05605606\n",
            "  6.06606607  6.07607608  6.08608609  6.0960961   6.10610611  6.11611612\n",
            "  6.12612613  6.13613614  6.14614615  6.15615616  6.16616617  6.17617618\n",
            "  6.18618619  6.1961962   6.20620621  6.21621622  6.22622623  6.23623624\n",
            "  6.24624625  6.25625626  6.26626627  6.27627628  6.28628629  6.2962963\n",
            "  6.30630631  6.31631632  6.32632633  6.33633634  6.34634635  6.35635636\n",
            "  6.36636637  6.37637638  6.38638639  6.3963964   6.40640641  6.41641642\n",
            "  6.42642643  6.43643644  6.44644645  6.45645646  6.46646647  6.47647648\n",
            "  6.48648649  6.4964965   6.50650651  6.51651652  6.52652653  6.53653654\n",
            "  6.54654655  6.55655656  6.56656657  6.57657658  6.58658659  6.5965966\n",
            "  6.60660661  6.61661662  6.62662663  6.63663664  6.64664665  6.65665666\n",
            "  6.66666667  6.67667668  6.68668669  6.6966967   6.70670671  6.71671672\n",
            "  6.72672673  6.73673674  6.74674675  6.75675676  6.76676677  6.77677678\n",
            "  6.78678679  6.7967968   6.80680681  6.81681682  6.82682683  6.83683684\n",
            "  6.84684685  6.85685686  6.86686687  6.87687688  6.88688689  6.8968969\n",
            "  6.90690691  6.91691692  6.92692693  6.93693694  6.94694695  6.95695696\n",
            "  6.96696697  6.97697698  6.98698699  6.996997    7.00700701  7.01701702\n",
            "  7.02702703  7.03703704  7.04704705  7.05705706  7.06706707  7.07707708\n",
            "  7.08708709  7.0970971   7.10710711  7.11711712  7.12712713  7.13713714\n",
            "  7.14714715  7.15715716  7.16716717  7.17717718  7.18718719  7.1971972\n",
            "  7.20720721  7.21721722  7.22722723  7.23723724  7.24724725  7.25725726\n",
            "  7.26726727  7.27727728  7.28728729  7.2972973   7.30730731  7.31731732\n",
            "  7.32732733  7.33733734  7.34734735  7.35735736  7.36736737  7.37737738\n",
            "  7.38738739  7.3973974   7.40740741  7.41741742  7.42742743  7.43743744\n",
            "  7.44744745  7.45745746  7.46746747  7.47747748  7.48748749  7.4974975\n",
            "  7.50750751  7.51751752  7.52752753  7.53753754  7.54754755  7.55755756\n",
            "  7.56756757  7.57757758  7.58758759  7.5975976   7.60760761  7.61761762\n",
            "  7.62762763  7.63763764  7.64764765  7.65765766  7.66766767  7.67767768\n",
            "  7.68768769  7.6976977   7.70770771  7.71771772  7.72772773  7.73773774\n",
            "  7.74774775  7.75775776  7.76776777  7.77777778  7.78778779  7.7977978\n",
            "  7.80780781  7.81781782  7.82782783  7.83783784  7.84784785  7.85785786\n",
            "  7.86786787  7.87787788  7.88788789  7.8978979   7.90790791  7.91791792\n",
            "  7.92792793  7.93793794  7.94794795  7.95795796  7.96796797  7.97797798\n",
            "  7.98798799  7.997998    8.00800801  8.01801802  8.02802803  8.03803804\n",
            "  8.04804805  8.05805806  8.06806807  8.07807808  8.08808809  8.0980981\n",
            "  8.10810811  8.11811812  8.12812813  8.13813814  8.14814815  8.15815816\n",
            "  8.16816817  8.17817818  8.18818819  8.1981982   8.20820821  8.21821822\n",
            "  8.22822823  8.23823824  8.24824825  8.25825826  8.26826827  8.27827828\n",
            "  8.28828829  8.2982983   8.30830831  8.31831832  8.32832833  8.33833834\n",
            "  8.34834835  8.35835836  8.36836837  8.37837838  8.38838839  8.3983984\n",
            "  8.40840841  8.41841842  8.42842843  8.43843844  8.44844845  8.45845846\n",
            "  8.46846847  8.47847848  8.48848849  8.4984985   8.50850851  8.51851852\n",
            "  8.52852853  8.53853854  8.54854855  8.55855856  8.56856857  8.57857858\n",
            "  8.58858859  8.5985986   8.60860861  8.61861862  8.62862863  8.63863864\n",
            "  8.64864865  8.65865866  8.66866867  8.67867868  8.68868869  8.6986987\n",
            "  8.70870871  8.71871872  8.72872873  8.73873874  8.74874875  8.75875876\n",
            "  8.76876877  8.77877878  8.78878879  8.7987988   8.80880881  8.81881882\n",
            "  8.82882883  8.83883884  8.84884885  8.85885886  8.86886887  8.87887888\n",
            "  8.88888889  8.8988989   8.90890891  8.91891892  8.92892893  8.93893894\n",
            "  8.94894895  8.95895896  8.96896897  8.97897898  8.98898899  8.998999\n",
            "  9.00900901  9.01901902  9.02902903  9.03903904  9.04904905  9.05905906\n",
            "  9.06906907  9.07907908  9.08908909  9.0990991   9.10910911  9.11911912\n",
            "  9.12912913  9.13913914  9.14914915  9.15915916  9.16916917  9.17917918\n",
            "  9.18918919  9.1991992   9.20920921  9.21921922  9.22922923  9.23923924\n",
            "  9.24924925  9.25925926  9.26926927  9.27927928  9.28928929  9.2992993\n",
            "  9.30930931  9.31931932  9.32932933  9.33933934  9.34934935  9.35935936\n",
            "  9.36936937  9.37937938  9.38938939  9.3993994   9.40940941  9.41941942\n",
            "  9.42942943  9.43943944  9.44944945  9.45945946  9.46946947  9.47947948\n",
            "  9.48948949  9.4994995   9.50950951  9.51951952  9.52952953  9.53953954\n",
            "  9.54954955  9.55955956  9.56956957  9.57957958  9.58958959  9.5995996\n",
            "  9.60960961  9.61961962  9.62962963  9.63963964  9.64964965  9.65965966\n",
            "  9.66966967  9.67967968  9.68968969  9.6996997   9.70970971  9.71971972\n",
            "  9.72972973  9.73973974  9.74974975  9.75975976  9.76976977  9.77977978\n",
            "  9.78978979  9.7997998   9.80980981  9.81981982  9.82982983  9.83983984\n",
            "  9.84984985  9.85985986  9.86986987  9.87987988  9.88988989  9.8998999\n",
            "  9.90990991  9.91991992  9.92992993  9.93993994  9.94994995  9.95995996\n",
            "  9.96996997  9.97997998  9.98998999 10.        ]\n"
          ],
          "name": "stdout"
        }
      ]
    },
    {
      "cell_type": "code",
      "metadata": {
        "id": "erihuiToMNBd",
        "colab_type": "code",
        "colab": {
          "base_uri": "https://localhost:8080/",
          "height": 51
        },
        "outputId": "90b9882c-4347-457d-993d-9550a4f0244c"
      },
      "source": [
        "t1 = np.linspace(0,10,10)\n",
        "t2 = np.arange(0,10,10)\n",
        "print(t1,t2)"
      ],
      "execution_count": null,
      "outputs": [
        {
          "output_type": "stream",
          "text": [
            "[ 0.          1.11111111  2.22222222  3.33333333  4.44444444  5.55555556\n",
            "  6.66666667  7.77777778  8.88888889 10.        ] [0]\n"
          ],
          "name": "stdout"
        }
      ]
    },
    {
      "cell_type": "markdown",
      "metadata": {
        "id": "GMpZjkaDMnBC",
        "colab_type": "text"
      },
      "source": [
        "for t1 it understands #start,stop,steps\n",
        "and for t2 it understands #start,stop,difference"
      ]
    }
  ]
}